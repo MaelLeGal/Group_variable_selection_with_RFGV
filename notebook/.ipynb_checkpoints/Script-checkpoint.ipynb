{
 "cells": [
  {
   "cell_type": "code",
   "execution_count": 1,
   "id": "regular-leonard",
   "metadata": {},
   "outputs": [
    {
     "name": "stdout",
     "output_type": "stream",
     "text": [
      "run __init__.py\n"
     ]
    },
    {
     "ename": "ModuleNotFoundError",
     "evalue": "No module named 'CARTGV.CARTGVCriterion'",
     "output_type": "error",
     "traceback": [
      "\u001b[1;31m---------------------------------------------------------------------------\u001b[0m",
      "\u001b[1;31mModuleNotFoundError\u001b[0m                       Traceback (most recent call last)",
      "\u001b[1;32m<ipython-input-1-1dd66aadc0f4>\u001b[0m in \u001b[0;36m<module>\u001b[1;34m\u001b[0m\n\u001b[1;32m----> 1\u001b[1;33m \u001b[1;32mfrom\u001b[0m \u001b[0mCARTGV\u001b[0m \u001b[1;32mimport\u001b[0m \u001b[0mCARTGVTree\u001b[0m\u001b[1;33m,\u001b[0m \u001b[0mCARTGVTreeBuilder\u001b[0m\u001b[1;33m\u001b[0m\u001b[1;33m\u001b[0m\u001b[0m\n\u001b[0m\u001b[0;32m      2\u001b[0m \u001b[1;32mfrom\u001b[0m \u001b[0mCARTGV\u001b[0m \u001b[1;32mimport\u001b[0m \u001b[0mCARTGVSplitter\u001b[0m\u001b[1;33m,\u001b[0m \u001b[0mBaseDenseCARTGVSplitter\u001b[0m\u001b[1;33m,\u001b[0m \u001b[0mBestCARTGVSplitter\u001b[0m\u001b[1;33m\u001b[0m\u001b[1;33m\u001b[0m\u001b[0m\n\u001b[0;32m      3\u001b[0m \u001b[1;32mfrom\u001b[0m \u001b[0mCARTGV\u001b[0m \u001b[1;32mimport\u001b[0m \u001b[0mCARTGVCriterion\u001b[0m\u001b[1;33m,\u001b[0m \u001b[0mCARTGVClassificationCriterion\u001b[0m\u001b[1;33m,\u001b[0m \u001b[0mCARTGVGini\u001b[0m\u001b[1;33m\u001b[0m\u001b[1;33m\u001b[0m\u001b[0m\n",
      "\u001b[1;32m~\\Documents\\Master_2\\Stage\\Random_forest\\Group_variable_selection_with_RFGV\\CARTGV\\__init__.py\u001b[0m in \u001b[0;36m<module>\u001b[1;34m\u001b[0m\n\u001b[0;32m      1\u001b[0m \u001b[0mprint\u001b[0m\u001b[1;33m(\u001b[0m\u001b[1;34m'run __init__.py'\u001b[0m\u001b[1;33m)\u001b[0m\u001b[1;33m\u001b[0m\u001b[1;33m\u001b[0m\u001b[0m\n\u001b[1;32m----> 2\u001b[1;33m \u001b[1;32mfrom\u001b[0m \u001b[1;33m.\u001b[0m\u001b[0mCARTGVCriterion\u001b[0m \u001b[1;32mimport\u001b[0m \u001b[0mCARTGVCriterion\u001b[0m\u001b[1;33m,\u001b[0m \u001b[0mCARTGVClassificationCriterion\u001b[0m\u001b[1;33m,\u001b[0m \u001b[0mCARTGVGini\u001b[0m\u001b[1;33m\u001b[0m\u001b[1;33m\u001b[0m\u001b[0m\n\u001b[0m\u001b[0;32m      3\u001b[0m \u001b[1;32mfrom\u001b[0m \u001b[1;33m.\u001b[0m\u001b[0mCARTGVSplitter\u001b[0m \u001b[1;32mimport\u001b[0m \u001b[0mCARTGVSplitter\u001b[0m\u001b[1;33m,\u001b[0m \u001b[0mBaseDenseCARTGVSplitter\u001b[0m\u001b[1;33m,\u001b[0m \u001b[0mBestCARTGVSplitter\u001b[0m\u001b[1;33m\u001b[0m\u001b[1;33m\u001b[0m\u001b[0m\n\u001b[0;32m      4\u001b[0m \u001b[1;32mfrom\u001b[0m \u001b[1;33m.\u001b[0m\u001b[0mCARTGVTree\u001b[0m \u001b[1;32mimport\u001b[0m \u001b[0mCARTGVTree\u001b[0m\u001b[1;33m,\u001b[0m \u001b[0mCARTGVTreeBuilder\u001b[0m\u001b[1;33m\u001b[0m\u001b[1;33m\u001b[0m\u001b[0m\n\u001b[0;32m      5\u001b[0m \u001b[1;32mimport\u001b[0m \u001b[0mCARTGVutils\u001b[0m\u001b[1;33m\u001b[0m\u001b[1;33m\u001b[0m\u001b[0m\n",
      "\u001b[1;31mModuleNotFoundError\u001b[0m: No module named 'CARTGV.CARTGVCriterion'"
     ]
    }
   ],
   "source": [
    "from CARTGV import CARTGVTree, CARTGVTreeBuilder\n",
    "from CARTGV import CARTGVSplitter, BaseDenseCARTGVSplitter, BestCARTGVSplitter\n",
    "from CARTGV import CARTGVCriterion, CARTGVClassificationCriterion, CARTGVGini"
   ]
  }
 ],
 "metadata": {
  "kernelspec": {
   "display_name": "Python 3",
   "language": "python",
   "name": "python3"
  },
  "language_info": {
   "codemirror_mode": {
    "name": "ipython",
    "version": 3
   },
   "file_extension": ".py",
   "mimetype": "text/x-python",
   "name": "python",
   "nbconvert_exporter": "python",
   "pygments_lexer": "ipython3",
   "version": "3.7.1"
  }
 },
 "nbformat": 4,
 "nbformat_minor": 5
}
