{
 "cells": [
  {
   "cell_type": "code",
   "execution_count": 2,
   "id": "c5bb7dc2",
   "metadata": {},
   "outputs": [],
   "source": [
    "import os\n",
    "import sys"
   ]
  },
  {
   "cell_type": "code",
   "execution_count": 3,
   "id": "cda820f6",
   "metadata": {},
   "outputs": [],
   "source": [
    "os.getcwd()\n",
    "sys.path.append(\"../rfgi\")"
   ]
  },
  {
   "cell_type": "code",
   "execution_count": 4,
   "id": "262d9b5e",
   "metadata": {},
   "outputs": [],
   "source": [
    "import numpy as np\n",
    "import pandas as pd\n",
    "import matplotlib.pyplot as plt\n",
    "import time\n",
    "from mpl_toolkits.mplot3d import Axes3D\n",
    "\n",
    "from CARTGV_trees import DecisionCARTGVTreeClassifier, DecisionCARTGVTreeRegressor\n",
    "from RFGV import RFGVClassifier, RFGVRegressor\n",
    "\n",
    "from sklearn.utils.validation import check_random_state\n",
    "from sklearn.tree import DecisionTreeClassifier, DecisionTreeRegressor, plot_tree\n",
    "from sklearn.datasets import load_iris, load_diabetes, load_breast_cancer\n",
    "from sklearn.model_selection import train_test_split, cross_val_score\n",
    "from sklearn.metrics import confusion_matrix, ConfusionMatrixDisplay"
   ]
  },
  {
   "cell_type": "markdown",
   "id": "f696650a",
   "metadata": {},
   "source": [
    "The package rfgi is inspired by the modules tree and random forest of Scikit-learn. Here are the links to the documentation :\n",
    "\n",
    "https://scikit-learn.org/stable/modules/generated/sklearn.tree.DecisionTreeClassifier.html\n",
    "\n",
    "https://scikit-learn.org/stable/modules/generated/sklearn.tree.DecisionTreeRegressor.html\n",
    "\n",
    "https://scikit-learn.org/stable/modules/generated/sklearn.ensemble.RandomForestClassifier.html\n",
    "\n",
    "https://scikit-learn.org/stable/modules/generated/sklearn.ensemble.RandomForestRegressor.html"
   ]
  },
  {
   "cell_type": "markdown",
   "id": "87a13512",
   "metadata": {},
   "source": [
    "# Example 1 : Iris dataset and multi-classes classification"
   ]
  },
  {
   "cell_type": "markdown",
   "id": "cd30345c",
   "metadata": {},
   "source": [
    "In this section we will have a simple example of the package. We will use the Iris dataset in a multi-classes classification problem."
   ]
  },
  {
   "cell_type": "markdown",
   "id": "6fa44f96",
   "metadata": {},
   "source": [
    "## Data"
   ]
  },
  {
   "cell_type": "markdown",
   "id": "1c91d434",
   "metadata": {},
   "source": [
    "We first load our data and create our groups."
   ]
  },
  {
   "cell_type": "code",
   "execution_count": 5,
   "id": "907dddbb",
   "metadata": {},
   "outputs": [],
   "source": [
    "#Loading of the data\n",
    "data = load_iris()\n",
    "\n",
    "X = data.data\n",
    "y= data.target\n",
    "\n",
    "#Split the data into train and test samples\n",
    "X_train, X_test, y_train, y_test = train_test_split(X, y, test_size=0.33, random_state=42)\n",
    "\n",
    "# Represent the groups as an array containing the indexes of the group column/variable inside the data\n",
    "# Here on the iris dataset we chose to regroup :\n",
    "# Sepal Length and Sepal Width : Group 0\n",
    "# Petal Length and Petal Width : Group 1\n",
    "# Sepal Length and Petal Length : Group 2\n",
    "# Sepal Width and Petal Width : Group 3\n",
    "groups = np.array([[0,1],[2,3],[0,2],[1,3]])"
   ]
  },
  {
   "cell_type": "markdown",
   "id": "218d9e90",
   "metadata": {},
   "source": [
    "Here is the format of the groups"
   ]
  },
  {
   "cell_type": "code",
   "execution_count": 6,
   "id": "19549c5d",
   "metadata": {},
   "outputs": [
    {
     "name": "stdout",
     "output_type": "stream",
     "text": [
      "[[0 1]\n",
      " [2 3]\n",
      " [0 2]\n",
      " [1 3]]\n"
     ]
    }
   ],
   "source": [
    "print(groups)"
   ]
  },
  {
   "cell_type": "markdown",
   "id": "08d9222f",
   "metadata": {},
   "source": [
    "As you can see above, the groups are defined as array containing the indexes of the variables. One variables can be in multiple groups. \n",
    "\n",
    "In this example the groups were set by grouping the variables about the Sepal together, the Petal together and a mix with Sepal and Petal length and Sepal and Petal width."
   ]
  },
  {
   "cell_type": "code",
   "execution_count": 7,
   "id": "9f490d81",
   "metadata": {},
   "outputs": [
    {
     "data": {
      "text/html": [
       "<div>\n",
       "<style scoped>\n",
       "    .dataframe tbody tr th:only-of-type {\n",
       "        vertical-align: middle;\n",
       "    }\n",
       "\n",
       "    .dataframe tbody tr th {\n",
       "        vertical-align: top;\n",
       "    }\n",
       "\n",
       "    .dataframe thead th {\n",
       "        text-align: right;\n",
       "    }\n",
       "</style>\n",
       "<table border=\"1\" class=\"dataframe\">\n",
       "  <thead>\n",
       "    <tr style=\"text-align: right;\">\n",
       "      <th></th>\n",
       "      <th>sepal length (cm)</th>\n",
       "      <th>sepal width (cm)</th>\n",
       "      <th>petal length (cm)</th>\n",
       "      <th>petal width (cm)</th>\n",
       "      <th>target</th>\n",
       "    </tr>\n",
       "  </thead>\n",
       "  <tbody>\n",
       "    <tr>\n",
       "      <th>0</th>\n",
       "      <td>5.1</td>\n",
       "      <td>3.5</td>\n",
       "      <td>1.4</td>\n",
       "      <td>0.2</td>\n",
       "      <td>0</td>\n",
       "    </tr>\n",
       "    <tr>\n",
       "      <th>1</th>\n",
       "      <td>4.9</td>\n",
       "      <td>3.0</td>\n",
       "      <td>1.4</td>\n",
       "      <td>0.2</td>\n",
       "      <td>0</td>\n",
       "    </tr>\n",
       "    <tr>\n",
       "      <th>2</th>\n",
       "      <td>4.7</td>\n",
       "      <td>3.2</td>\n",
       "      <td>1.3</td>\n",
       "      <td>0.2</td>\n",
       "      <td>0</td>\n",
       "    </tr>\n",
       "    <tr>\n",
       "      <th>3</th>\n",
       "      <td>4.6</td>\n",
       "      <td>3.1</td>\n",
       "      <td>1.5</td>\n",
       "      <td>0.2</td>\n",
       "      <td>0</td>\n",
       "    </tr>\n",
       "    <tr>\n",
       "      <th>4</th>\n",
       "      <td>5.0</td>\n",
       "      <td>3.6</td>\n",
       "      <td>1.4</td>\n",
       "      <td>0.2</td>\n",
       "      <td>0</td>\n",
       "    </tr>\n",
       "    <tr>\n",
       "      <th>5</th>\n",
       "      <td>5.4</td>\n",
       "      <td>3.9</td>\n",
       "      <td>1.7</td>\n",
       "      <td>0.4</td>\n",
       "      <td>0</td>\n",
       "    </tr>\n",
       "    <tr>\n",
       "      <th>6</th>\n",
       "      <td>4.6</td>\n",
       "      <td>3.4</td>\n",
       "      <td>1.4</td>\n",
       "      <td>0.3</td>\n",
       "      <td>0</td>\n",
       "    </tr>\n",
       "    <tr>\n",
       "      <th>7</th>\n",
       "      <td>5.0</td>\n",
       "      <td>3.4</td>\n",
       "      <td>1.5</td>\n",
       "      <td>0.2</td>\n",
       "      <td>0</td>\n",
       "    </tr>\n",
       "    <tr>\n",
       "      <th>8</th>\n",
       "      <td>4.4</td>\n",
       "      <td>2.9</td>\n",
       "      <td>1.4</td>\n",
       "      <td>0.2</td>\n",
       "      <td>0</td>\n",
       "    </tr>\n",
       "    <tr>\n",
       "      <th>9</th>\n",
       "      <td>4.9</td>\n",
       "      <td>3.1</td>\n",
       "      <td>1.5</td>\n",
       "      <td>0.1</td>\n",
       "      <td>0</td>\n",
       "    </tr>\n",
       "  </tbody>\n",
       "</table>\n",
       "</div>"
      ],
      "text/plain": [
       "   sepal length (cm)  sepal width (cm)  petal length (cm)  petal width (cm)  \\\n",
       "0                5.1               3.5                1.4               0.2   \n",
       "1                4.9               3.0                1.4               0.2   \n",
       "2                4.7               3.2                1.3               0.2   \n",
       "3                4.6               3.1                1.5               0.2   \n",
       "4                5.0               3.6                1.4               0.2   \n",
       "5                5.4               3.9                1.7               0.4   \n",
       "6                4.6               3.4                1.4               0.3   \n",
       "7                5.0               3.4                1.5               0.2   \n",
       "8                4.4               2.9                1.4               0.2   \n",
       "9                4.9               3.1                1.5               0.1   \n",
       "\n",
       "   target  \n",
       "0       0  \n",
       "1       0  \n",
       "2       0  \n",
       "3       0  \n",
       "4       0  \n",
       "5       0  \n",
       "6       0  \n",
       "7       0  \n",
       "8       0  \n",
       "9       0  "
      ]
     },
     "execution_count": 7,
     "metadata": {},
     "output_type": "execute_result"
    }
   ],
   "source": [
    "data = load_iris(as_frame=True)\n",
    "data.data.join(data.target).head(10)"
   ]
  },
  {
   "cell_type": "markdown",
   "id": "a9ccec83",
   "metadata": {},
   "source": [
    "Here we can see the first 10 row of the dataset. If we take our group, the index 0 reference the variable \"Sepal length\", the index 1 the variable \"Sepal width\" etc. The target represent the class of the observation."
   ]
  },
  {
   "cell_type": "markdown",
   "id": "687848ce",
   "metadata": {},
   "source": [
    "## Data representation"
   ]
  },
  {
   "cell_type": "markdown",
   "id": "abe8718a",
   "metadata": {},
   "source": [
    "We will now represent our datas, what compose our dataset and what we want to predict."
   ]
  },
  {
   "cell_type": "code",
   "execution_count": 8,
   "id": "3b94f751",
   "metadata": {},
   "outputs": [
    {
     "name": "stdout",
     "output_type": "stream",
     "text": [
      ".. _iris_dataset:\n",
      "\n",
      "Iris plants dataset\n",
      "--------------------\n",
      "\n",
      "**Data Set Characteristics:**\n",
      "\n",
      "    :Number of Instances: 150 (50 in each of three classes)\n",
      "    :Number of Attributes: 4 numeric, predictive attributes and the class\n",
      "    :Attribute Information:\n",
      "        - sepal length in cm\n",
      "        - sepal width in cm\n",
      "        - petal length in cm\n",
      "        - petal width in cm\n",
      "        - class:\n",
      "                - Iris-Setosa\n",
      "                - Iris-Versicolour\n",
      "                - Iris-Virginica\n",
      "                \n",
      "    :Summary Statistics:\n",
      "\n",
      "    ============== ==== ==== ======= ===== ====================\n",
      "                    Min  Max   Mean    SD   Class Correlation\n",
      "    ============== ==== ==== ======= ===== ====================\n",
      "    sepal length:   4.3  7.9   5.84   0.83    0.7826\n",
      "    sepal width:    2.0  4.4   3.05   0.43   -0.4194\n",
      "    petal length:   1.0  6.9   3.76   1.76    0.9490  (high!)\n",
      "    petal width:    0.1  2.5   1.20   0.76    0.9565  (high!)\n",
      "    ============== ==== ==== ======= ===== ====================\n",
      "\n",
      "    :Missing Attribute Values: None\n",
      "    :Class Distribution: 33.3% for each of 3 classes.\n",
      "    :Creator: R.A. Fisher\n",
      "    :Donor: Michael Marshall (MARSHALL%PLU@io.arc.nasa.gov)\n",
      "    :Date: July, 1988\n",
      "\n",
      "The famous Iris database, first used by Sir R.A. Fisher. The dataset is taken\n",
      "from Fisher's paper. Note that it's the same as in R, but not as in the UCI\n",
      "Machine Learning Repository, which has two wrong data points.\n",
      "\n",
      "This is perhaps the best known database to be found in the\n",
      "pattern recognition literature.  Fisher's paper is a classic in the field and\n",
      "is referenced frequently to this day.  (See Duda & Hart, for example.)  The\n",
      "data set contains 3 classes of 50 instances each, where each class refers to a\n",
      "type of iris plant.  One class is linearly separable from the other 2; the\n",
      "latter are NOT linearly separable from each other.\n",
      "\n",
      ".. topic:: References\n",
      "\n",
      "   - Fisher, R.A. \"The use of multiple measurements in taxonomic problems\"\n",
      "     Annual Eugenics, 7, Part II, 179-188 (1936); also in \"Contributions to\n",
      "     Mathematical Statistics\" (John Wiley, NY, 1950).\n",
      "   - Duda, R.O., & Hart, P.E. (1973) Pattern Classification and Scene Analysis.\n",
      "     (Q327.D83) John Wiley & Sons.  ISBN 0-471-22361-1.  See page 218.\n",
      "   - Dasarathy, B.V. (1980) \"Nosing Around the Neighborhood: A New System\n",
      "     Structure and Classification Rule for Recognition in Partially Exposed\n",
      "     Environments\".  IEEE Transactions on Pattern Analysis and Machine\n",
      "     Intelligence, Vol. PAMI-2, No. 1, 67-71.\n",
      "   - Gates, G.W. (1972) \"The Reduced Nearest Neighbor Rule\".  IEEE Transactions\n",
      "     on Information Theory, May 1972, 431-433.\n",
      "   - See also: 1988 MLC Proceedings, 54-64.  Cheeseman et al\"s AUTOCLASS II\n",
      "     conceptual clustering system finds 3 classes in the data.\n",
      "   - Many, many more ...\n"
     ]
    }
   ],
   "source": [
    "print(data.DESCR)"
   ]
  },
  {
   "cell_type": "code",
   "execution_count": 9,
   "id": "4b38501f",
   "metadata": {
    "scrolled": false
   },
   "outputs": [
    {
     "name": "stderr",
     "output_type": "stream",
     "text": [
      "<ipython-input-9-432b36512c3e>:26: UserWarning: Matplotlib is currently using module://ipykernel.pylab.backend_inline, which is a non-GUI backend, so cannot show the figure.\n",
      "  fig.show()\n"
     ]
    },
    {
     "data": {
      "image/png": "[encoded data removed]",
      "text/plain": [
       "<Figure size 1152x648 with 1 Axes>"
      ]
     },
     "metadata": {
      "needs_background": "light"
     },
     "output_type": "display_data"
    }
   ],
   "source": [
    "# Plot the data\n",
    "fig = plt.figure(0, figsize=(16, 9))\n",
    "ax = Axes3D(fig, rect=[0, 0, .95, 1], elev=48, azim=134)\n",
    "\n",
    "for name, label in [('Setosa', 0),\n",
    "                    ('Versicolour', 1),\n",
    "                    ('Virginica', 2)]:\n",
    "    ax.text3D(X[y == label, 3].mean(),\n",
    "              X[y == label, 0].mean(),\n",
    "              X[y == label, 2].mean() + 2, name,\n",
    "              horizontalalignment='center',\n",
    "              bbox=dict(alpha=.2, edgecolor='w', facecolor='w'))\n",
    "# Reorder the labels to have colors matching the cluster results\n",
    "y_reordered = np.choose(y, [1, 2, 0]).astype(float)\n",
    "ax.scatter(X[:, 3], X[:, 0], X[:, 2], c=y_reordered, edgecolor='k')\n",
    "\n",
    "ax.w_xaxis.set_ticklabels([])\n",
    "ax.w_yaxis.set_ticklabels([])\n",
    "ax.w_zaxis.set_ticklabels([])\n",
    "ax.set_xlabel('Petal width')\n",
    "ax.set_ylabel('Sepal length')\n",
    "ax.set_zlabel('Petal length')\n",
    "ax.set_title('Iris dataset')\n",
    "ax.dist = 12\n",
    "\n",
    "fig.show()"
   ]
  },
  {
   "cell_type": "markdown",
   "id": "9cdb39a3",
   "metadata": {},
   "source": [
    "On the figure above we can see the Iris dataset and it's representation.\n",
    "\n",
    "We can see 3 of the 4 variables which are Petal Length, Sepal length, Petal Width and Sepal Width.\n",
    "\n",
    "We can also see that the dataset is composed of 3 classes, Virginica, Versicolour and Setosa.\n",
    "\n",
    "Moreover, in this representation, we can see an important variable, Petal Width, that will split the dataset in the correct classes. We will later compare it to our result."
   ]
  },
  {
   "cell_type": "markdown",
   "id": "e2027299",
   "metadata": {},
   "source": [
    "## Parameters\n",
    "\n",
    "We will now define our parameter for our tree construction."
   ]
  },
  {
   "cell_type": "code",
   "execution_count": 10,
   "id": "c12c6bb7",
   "metadata": {},
   "outputs": [],
   "source": [
    "sample_size = X_train.shape[0]\n",
    "\n",
    "len_groups = np.array([len(group) for group in groups])\n",
    "\n",
    "min_samples_leaf = 1 # The minimum number of observations in a leaf\n",
    "min_samples_split = 2 # The minimum number of samples needed to split the node\n",
    "random_state = 2547 # # An int, the seed to fix the randomness (default=None, the randomness isn't fixed)\n",
    "                            # Controls both the randomness of the bootstrapping of the samples used when building trees \n",
    "                            # (if bootstrap=True) and the sampling of the features to consider when looking for the best\n",
    "                            # split at each node\n",
    "max_depth = None # The maximal depth for the CARTGV tree\n",
    "max_depth_splitting_tree = 2 # The maximal depth of splitting trees\n",
    "mgroup = len(groups) # The number of group to visit\n",
    "mvar = len_groups # The number of variable to visit\n",
    "pen = None # The penality function\n",
    "min_impurity_decrease = 0.0 # The minimum decrease in impurity that we want to achieve after a split\n",
    "min_impurity_split = 0.0 # The minimum impurity under which the node is considered a leaf\n",
    "max_features=None #  An int, not used anymore\n",
    "max_leaf_nodes=None # An int, the maximum number of leaf the tree will be restricted to (default=None, No restrictions)\n",
    "class_weight=None # A dict, list of dict, or \"balanced\", The class associated weights\n",
    "ccp_alpha=0.0     # A non-negative float, the complexity parameter used for tree pruning"
   ]
  },
  {
   "cell_type": "markdown",
   "id": "93d5c417",
   "metadata": {},
   "source": [
    "## Objects construction"
   ]
  },
  {
   "cell_type": "markdown",
   "id": "2b53524e",
   "metadata": {},
   "source": [
    "We create here the object that will represent our tree. We use our previous parameters to define how our tree will be constructed. \n",
    "\n",
    "Important to note, if we have max_depth_splitting_tree = 1 and our groups are composed only of one variable each and one for each variable, we will create a CART tree such as the DecisionTreeClassifier of Scikit-learn."
   ]
  },
  {
   "cell_type": "code",
   "execution_count": 11,
   "id": "147bf23c",
   "metadata": {},
   "outputs": [],
   "source": [
    "cartgvtreeclassifier = DecisionCARTGVTreeClassifier(mvar=mvar, \n",
    "                            mgroup=mgroup,\n",
    "                            random_state=random_state, \n",
    "                            max_depth_splitting_tree=max_depth_splitting_tree,\n",
    "                            pen = pen,\n",
    "                            min_samples_leaf = 1, \n",
    "                            min_samples_split = 2, \n",
    "                            max_depth = None,\n",
    "                            min_impurity_decrease = 0.0,\n",
    "                            min_impurity_split = 0.0,\n",
    "                            min_weight_fraction_leaf=0.0,\n",
    "                            max_features=None,\n",
    "                            max_leaf_nodes=None,\n",
    "                            class_weight=None,\n",
    "                            ccp_alpha=0.0)"
   ]
  },
  {
   "cell_type": "markdown",
   "id": "029ae8e4",
   "metadata": {},
   "source": [
    "## Tree construction"
   ]
  },
  {
   "cell_type": "markdown",
   "id": "9f59dc0a",
   "metadata": {},
   "source": [
    "We construct our tree with our training datas and groups. After this our model will be trained and we will be able to predict, compute our classification score."
   ]
  },
  {
   "cell_type": "code",
   "execution_count": 12,
   "id": "0d3d5c66",
   "metadata": {},
   "outputs": [
    {
     "name": "stderr",
     "output_type": "stream",
     "text": [
      "../rfgi\\CARTGV_trees.py:308: FutureWarning: The min_impurity_split parameter is deprecated. Its default value has changed from 1e-7 to 0 in version 0.23, and it will be removed in 1.0 (renaming of 0.25). Use the min_impurity_decrease parameter instead.\n",
      "  warnings.warn(\n"
     ]
    },
    {
     "data": {
      "text/plain": [
       "DecisionCARTGVTreeClassifier(mgroup=4, min_impurity_split=0.0,\n",
       "                             mvar=array([2, 2, 2, 2]), random_state=2547)"
      ]
     },
     "execution_count": 12,
     "metadata": {},
     "output_type": "execute_result"
    }
   ],
   "source": [
    "cartgvtreeclassifier.fit(X_train, y_train, groups)"
   ]
  },
  {
   "cell_type": "markdown",
   "id": "70faf98e",
   "metadata": {},
   "source": [
    "## Classification score"
   ]
  },
  {
   "cell_type": "markdown",
   "id": "f6d8ef67",
   "metadata": {},
   "source": [
    "Here we compute our classification score with our test datas. It represent the rate of good classification."
   ]
  },
  {
   "cell_type": "code",
   "execution_count": 13,
   "id": "174b0302",
   "metadata": {
    "scrolled": true
   },
   "outputs": [
    {
     "data": {
      "text/plain": [
       "0.96"
      ]
     },
     "execution_count": 13,
     "metadata": {},
     "output_type": "execute_result"
    }
   ],
   "source": [
    "cartgvtreeclassifier.score(X_test, y_test)"
   ]
  },
  {
   "cell_type": "markdown",
   "id": "9b0c1662",
   "metadata": {},
   "source": [
    "We can see here a score of 0.96, it means that 96% of the datas are classed correctly. Our tree/model has a good predictive ability for those datas."
   ]
  },
  {
   "cell_type": "markdown",
   "id": "f2697250",
   "metadata": {},
   "source": [
    "## Confusion matrix"
   ]
  },
  {
   "cell_type": "code",
   "execution_count": 14,
   "id": "56d58edb",
   "metadata": {},
   "outputs": [
    {
     "data": {
      "image/png": "[encoded data removed]",
      "text/plain": [
       "<Figure size 432x288 with 2 Axes>"
      ]
     },
     "metadata": {
      "needs_background": "light"
     },
     "output_type": "display_data"
    }
   ],
   "source": [
    "cm = confusion_matrix(y_test, cartgvtreeclassifier.predict(X_test))\n",
    "cm_display = ConfusionMatrixDisplay(cm).plot()"
   ]
  },
  {
   "cell_type": "markdown",
   "id": "307972b5",
   "metadata": {},
   "source": [
    "The confusion matrix help us in evaluating the accuracy of the classification. When there is a value X outside of the diagonal, it means that X observations have been missclassed.\n",
    "\n",
    "Here we can see the value 1 at the intersection between the class 1 and the class 2. Our tree missclassed 1 observation as a class 1 instead of class 2 and 1 observation as class 2 instead of class 1."
   ]
  },
  {
   "cell_type": "markdown",
   "id": "0536023f",
   "metadata": {},
   "source": [
    "# Results and visualisation"
   ]
  },
  {
   "cell_type": "markdown",
   "id": "b3271d9d",
   "metadata": {},
   "source": [
    "We can, in this section, see much more information about our tree. We will be able to see the impurity in each node, the number of samples, the group used to split and even the splitting tree will be shown in a plot."
   ]
  },
  {
   "cell_type": "markdown",
   "id": "5a0781bf",
   "metadata": {},
   "source": [
    "## Parents\n",
    "Each number represent the parent of the node with the id the index in the array.\n",
    "The parent -2 represent the root. \n",
    "\n",
    "Here the root has been split into 3 children, we can see that by the number of 0 in the array. It's children are the nodes with id : 1, 5 and 14."
   ]
  },
  {
   "cell_type": "code",
   "execution_count": 15,
   "id": "5faeb01d",
   "metadata": {
    "scrolled": false
   },
   "outputs": [
    {
     "name": "stdout",
     "output_type": "stream",
     "text": [
      "[-2.  0.  1.  1.  1.  0.  5.  5.  7.  7.  5. 10. 10. 10.  0.]\n"
     ]
    }
   ],
   "source": [
    "print(cartgvtreeclassifier.tree_.nodes_parent)"
   ]
  },
  {
   "cell_type": "markdown",
   "id": "eddcaddb",
   "metadata": {},
   "source": [
    "## Impurities\n",
    "Each value is the value of the node with the id the index in the array For example, the root of id 0 has for impurity 0.6658. We can see that this impurity decrease throughout the nodes, meaning that we found correct way to split our nodes."
   ]
  },
  {
   "cell_type": "code",
   "execution_count": 16,
   "id": "e7315e68",
   "metadata": {
    "scrolled": true
   },
   "outputs": [
    {
     "name": "stdout",
     "output_type": "stream",
     "text": [
      "[0.6658     0.06243496 0.         0.         0.         0.18836565\n",
      " 0.         0.5        0.         0.         0.05709343 0.\n",
      " 0.         0.         0.        ]\n"
     ]
    }
   ],
   "source": [
    "print(cartgvtreeclassifier.tree_.nodes_impurities)"
   ]
  },
  {
   "cell_type": "markdown",
   "id": "7c9ce87f",
   "metadata": {},
   "source": [
    "The impurity is computed using the Gini criterion."
   ]
  },
  {
   "cell_type": "markdown",
   "id": "49b1da58",
   "metadata": {},
   "source": [
    "## Number of samples in each node\n",
    "This array help us see the number of samples in each node. We started with 100 observations that were splitted in different node until we considered the node was a leaf."
   ]
  },
  {
   "cell_type": "code",
   "execution_count": 17,
   "id": "9e75f12a",
   "metadata": {
    "scrolled": true
   },
   "outputs": [
    {
     "name": "stdout",
     "output_type": "stream",
     "text": [
      "[100.  31.  28.   2.   1.  38.   2.   2.   1.   1.  34.  31.   1.   2.\n",
      "  31.]\n",
      "\n",
      "\n",
      "[100.  31.  28.   2.   1.  38.   2.   2.   1.   1.  34.  31.   1.   2.\n",
      "  31.]\n"
     ]
    }
   ],
   "source": [
    "print(cartgvtreeclassifier.tree_.nodes_n_node_samples)\n",
    "print('\\n')\n",
    "print(cartgvtreeclassifier.tree_.nodes_weighted_n_node_samples)"
   ]
  },
  {
   "cell_type": "markdown",
   "id": "1640e70e",
   "metadata": {},
   "source": [
    "## Groups\n",
    "Represent the group that splited the node.\n",
    "A value of -1 means the node is a leaf and wasn't splitted. Here the root was splitted using the second group and its first child of id 1 has been splitted using the second group."
   ]
  },
  {
   "cell_type": "code",
   "execution_count": 18,
   "id": "9becddf5",
   "metadata": {
    "scrolled": true
   },
   "outputs": [
    {
     "name": "stdout",
     "output_type": "stream",
     "text": [
      "[ 1.  2. -2. -2. -2.  1. -2.  1. -2. -2.  3. -2. -2. -2. -2.]\n"
     ]
    }
   ],
   "source": [
    "print(cartgvtreeclassifier.tree_.nodes_group)"
   ]
  },
  {
   "cell_type": "markdown",
   "id": "37bcbf21",
   "metadata": {},
   "source": [
    "## Number of children\n",
    "This array give us the number of children of each node. The root here has 3 children. These informations can also be found with the parent array."
   ]
  },
  {
   "cell_type": "code",
   "execution_count": 19,
   "id": "b485d49f",
   "metadata": {
    "scrolled": true
   },
   "outputs": [
    {
     "name": "stdout",
     "output_type": "stream",
     "text": [
      "[3. 3. 0. 0. 0. 3. 0. 2. 0. 0. 3. 0. 0. 0. 0.]\n"
     ]
    }
   ],
   "source": [
    "print(cartgvtreeclassifier.tree_.nodes_n_childs)"
   ]
  },
  {
   "cell_type": "markdown",
   "id": "3fd2afbd",
   "metadata": {},
   "source": [
    "We can see that compared to a CART tree, a node can be splitted into more thant 2 children. It is the result of our splitting on group instead of variables and the use of splitting trees."
   ]
  },
  {
   "cell_type": "markdown",
   "id": "1448a677",
   "metadata": {},
   "source": [
    "## Number of nodes in the CARTGVTree"
   ]
  },
  {
   "cell_type": "code",
   "execution_count": 20,
   "id": "17a7d0af",
   "metadata": {},
   "outputs": [
    {
     "name": "stdout",
     "output_type": "stream",
     "text": [
      "15\n"
     ]
    }
   ],
   "source": [
    "print(cartgvtreeclassifier.tree_.node_count)"
   ]
  },
  {
   "cell_type": "markdown",
   "id": "0450924f",
   "metadata": {},
   "source": [
    "## Splitting trees\n",
    "Here are the splitting trees in order of node id. The first one is the splitting tree of the root for example."
   ]
  },
  {
   "cell_type": "code",
   "execution_count": 21,
   "id": "c8c3b276",
   "metadata": {
    "scrolled": true
   },
   "outputs": [
    {
     "data": {
      "image/png": "[encoded data removed]",
      "text/plain": [
       "<Figure size 864x432 with 1 Axes>"
      ]
     },
     "metadata": {
      "needs_background": "light"
     },
     "output_type": "display_data"
    }
   ],
   "source": [
    "clf = DecisionTreeClassifier(max_depth=max_depth, random_state=random_state, max_features=len(groups[0]),\n",
    "                             max_leaf_nodes=X.shape[0])\n",
    "\n",
    "clf.tree_ = cartgvtreeclassifier.tree_.nodes_splitting_trees[0]\n",
    "fig, ax = plt.subplots(1, figsize=(12, 6))\n",
    "plot_tree(clf)\n",
    "plt.show()\n",
    "\n",
    "# An example to plot all the splitting trees of the CARTGV tree\n",
    "# for i in range(cartgvtreeclassifier.tree_.node_count):\n",
    "#     clf.tree_ = cartgvtreeclassifier.tree_.nodes_splitting_trees[i]\n",
    "#     if(cartgvtreeclassifier.tree_.nodes_splitting_trees[i] != None):\n",
    "#         fig, ax = plt.subplots(1, figsize=(12, 6))\n",
    "#         plot_tree(clf)\n",
    "#         plt.show()"
   ]
  },
  {
   "cell_type": "markdown",
   "id": "8bfda78f",
   "metadata": {},
   "source": [
    "Here we have the splitting tree of the root of the tree. Just like we parametered, the splitting tree has a depth of 2. This tree has 3 leaves that will be the children of the node just like we saw previously in the children array.\n",
    "\n",
    "We can also see the reparition of the samples in each class and child node. The left most child has an impurity of 0.0 (gini = 0.0) meaning the node contains only the same class. This child will be a leaf in the final CARTGV tree.\n",
    "\n",
    "It is also important to remark the variable of the group used to split the node in the splitting tree. The first node was splitted using the first variable of the group, then the second split used the second variable."
   ]
  },
  {
   "cell_type": "code",
   "execution_count": 22,
   "id": "3b69c955",
   "metadata": {
    "scrolled": true
   },
   "outputs": [
    {
     "data": {
      "image/png": "[encoded data removed]",
      "text/plain": [
       "<Figure size 864x432 with 1 Axes>"
      ]
     },
     "metadata": {
      "needs_background": "light"
     },
     "output_type": "display_data"
    }
   ],
   "source": [
    "clf.tree_ = cartgvtreeclassifier.tree_.nodes_splitting_trees[1]\n",
    "fig, ax = plt.subplots(1, figsize=(12, 6))\n",
    "plot_tree(clf)\n",
    "plt.show()"
   ]
  },
  {
   "cell_type": "markdown",
   "id": "58ac2cea",
   "metadata": {},
   "source": [
    "We have here the splitting tree of the first child of the root (The right most leaf). On this splitting tree we can see 3 leaves with an impurity of 0.0. "
   ]
  },
  {
   "cell_type": "code",
   "execution_count": 23,
   "id": "2c09e0a1",
   "metadata": {},
   "outputs": [
    {
     "data": {
      "image/png": "[encoded data removed]",
      "text/plain": [
       "<Figure size 864x432 with 1 Axes>"
      ]
     },
     "metadata": {
      "needs_background": "light"
     },
     "output_type": "display_data"
    }
   ],
   "source": [
    "clf.tree_ = cartgvtreeclassifier.tree_.nodes_splitting_trees[5]\n",
    "fig, ax = plt.subplots(1, figsize=(12, 6))\n",
    "plot_tree(clf)\n",
    "plt.show()"
   ]
  },
  {
   "cell_type": "markdown",
   "id": "d60212e0",
   "metadata": {},
   "source": []
  },
  {
   "cell_type": "markdown",
   "id": "8ed5af88",
   "metadata": {},
   "source": [
    "We have here the splitting tree of the second child of the root (middle leaf). Here we do not have all leaves at an impurity=0.0. The process will continue until we only have leaves. In our example a leaf mean having an impurity of 0.0, but the stopping criterion can be changed with different parameters."
   ]
  },
  {
   "cell_type": "code",
   "execution_count": 24,
   "id": "2cf595b4",
   "metadata": {
    "scrolled": false
   },
   "outputs": [
    {
     "data": {
      "image/png": "[encoded data removed]",
      "text/plain": [
       "<Figure size 864x432 with 1 Axes>"
      ]
     },
     "metadata": {
      "needs_background": "light"
     },
     "output_type": "display_data"
    }
   ],
   "source": [
    "clf.tree_ = cartgvtreeclassifier.tree_.nodes_splitting_trees[7]\n",
    "fig, ax = plt.subplots(1, figsize=(12, 6))\n",
    "plot_tree(clf)\n",
    "plt.show()"
   ]
  },
  {
   "cell_type": "markdown",
   "id": "47a1425e",
   "metadata": {},
   "source": [
    "Just like we said above, our splitting tree had leave with an impurity above 0.0, we had to split them again. Here is the splitting tree of the middle leaf with an impurity of 0.5 that we split to obtain two nodes leaves with impurity of 0.0."
   ]
  },
  {
   "cell_type": "markdown",
   "id": "d6e98311",
   "metadata": {},
   "source": [
    "## Forest"
   ]
  },
  {
   "cell_type": "code",
   "execution_count": 25,
   "id": "870a736f",
   "metadata": {},
   "outputs": [],
   "source": [
    "n_estimators=100            # An int, the number of trees that will be created\n",
    "criterion=\"gini\"            # A string, the criterion name that will be used to construct the forest\n",
    "splitter=\"best\"             # A string, the splitter name that will be used to construct the forest. \n",
    "                            # The strategy used to choose the split at each node. \n",
    "                            # Supported strategies is “best” to choose the best split\n",
    "max_depth=None              # An int, the maximum depth of the tree, (default = None, construct the maximal tree)\n",
    "max_depth_splitting_tree=2  # An int, the maximal depth of the splitting trees\n",
    "min_samples_split=2         # An int, the minimal number of observations in a node needed to split it\n",
    "min_samples_leaf=1          # An int, the minimal number under which the nodes are considered leaves\n",
    "min_weight_fraction_leaf=0. # An int, the minimal weigth in a node under which it is considered a leaf. \n",
    "                            # The minimum weighted fraction of the sum total of weights (of all the input samples) required\n",
    "                            # to be at a leaf node.\n",
    "mvar=\"root\"                 # An string or array/list, The number of variable that will be used \n",
    "                            # to construct the splitting trees for each group\n",
    "mgroup=None                 # An int, the number of group that will be tested to find the best splitting tree\n",
    "                            # (default = None, Use all the groups)\n",
    "pen=None                    # A function with one parameter or a string (\"root\", \"size\", \"log\"), The penality function\n",
    "                            # on the group size for the impurity calculation (default = None, No penality)\n",
    "max_leaf_nodes=None         # An int, the maximum number of leaf the tree will be restricted to (default = None, No restriction)\n",
    "min_impurity_decrease=0.    # A float, The value under which the decrease in impurity of a split need to be to split a node\n",
    "min_impurity_split=None     # A float, The minimal value of impurity under which the node is considered a leaf (default=None)\n",
    "bootstrap=True              # A boolean, If true the forest will use the bootstrap method\n",
    "oob_score=False             # A boolean, If true the forest will compute the out-of-bag score\n",
    "ib_score=False              # A boolean, If true, the forest will compute the in-bag score\n",
    "n_jobs=None                 # An int, the number of process, threads that will be used to create the forest\n",
    "random_state=None           # An int, the seed to fix the randomness (default=None, the randomness isn't fixed)\n",
    "                            # Controls both the randomness of the bootstrapping of the samples used when building trees \n",
    "                            # (if bootstrap=True) and the sampling of the features to consider when looking for the best\n",
    "                            # split at each node\n",
    "verbose=0                   # An int, If verbose > 0 It will print the stepts of the forest\n",
    "warm_start=False            # A boolean, Reuse the solution of the previous fit and add more estimators. \n",
    "                            # When set to True, reuse the solution of the previous call to fit and add more estimators\n",
    "                            # to the ensemble, otherwise, just fit a whole new forest. \n",
    "class_weight=None           # A dict, list of dict, or \"balanced\", The class associated weights\n",
    "ccp_alpha=0.0               # A non-negative float, the complexity parameter used for tree pruning\n",
    "max_samples=None            # An int, The number of samples to draw from the data to train each estimator\n",
    "random=True                 # A boolean, Remove the randomness in the forest"
   ]
  },
  {
   "cell_type": "code",
   "execution_count": 26,
   "id": "5968dc9a",
   "metadata": {},
   "outputs": [],
   "source": [
    "rfgv = RFGVClassifier(n_jobs=n_jobs, \n",
    "                      n_estimators=n_estimators, \n",
    "                      mvar=mvar, \n",
    "                      mgroup=len(groups)/3, \n",
    "                      max_depth_splitting_tree=max_depth_splitting_tree, \n",
    "                      random_state=2547, \n",
    "                      verbose=0,\n",
    "                      criterion=\"gini\",\n",
    "                      splitter=\"best\",\n",
    "                      max_depth=None,\n",
    "                      min_samples_split=2,\n",
    "                      min_samples_leaf=1,\n",
    "                      min_weight_fraction_leaf=0.0,\n",
    "                      pen=None,\n",
    "                      max_leaf_nodes=None,\n",
    "                      min_impurity_decrease=0.,\n",
    "                      min_impurity_split=None,\n",
    "                      bootstrap=True,\n",
    "                      oob_score=False,\n",
    "                      ib_score=False,\n",
    "                      warm_start=False,\n",
    "                      class_weight=None,\n",
    "                      ccp_alpha=0.0,\n",
    "                      max_samples=None,\n",
    "                      random=True) #verbose >1 for text"
   ]
  },
  {
   "cell_type": "code",
   "execution_count": 27,
   "id": "56e3fd0f",
   "metadata": {},
   "outputs": [
    {
     "data": {
      "text/plain": [
       "RFGVClassifier(mgroup=1.3333333333333333, random_state=2547, splitter=('best',))"
      ]
     },
     "execution_count": 27,
     "metadata": {},
     "output_type": "execute_result"
    }
   ],
   "source": [
    "rfgv.fit(X_train, y_train, groups)"
   ]
  },
  {
   "cell_type": "code",
   "execution_count": 28,
   "id": "53b00eed",
   "metadata": {},
   "outputs": [
    {
     "data": {
      "text/plain": [
       "0.98"
      ]
     },
     "execution_count": 28,
     "metadata": {},
     "output_type": "execute_result"
    }
   ],
   "source": [
    "rfgv.score(X_test, y_test)"
   ]
  },
  {
   "cell_type": "markdown",
   "id": "277d24b0",
   "metadata": {},
   "source": [
    "We can here compare the score of a forest to a tree. We can see that the forest has a score of good prediction of 0.98 when the tree had a score of 0.96. The number of estimator and the randomness used in the forest help us reduce the over-fitting, which help us having better scores in the end."
   ]
  },
  {
   "cell_type": "markdown",
   "id": "e0a156ab",
   "metadata": {},
   "source": [
    "# Example 2 : Diabetes dataset and regression"
   ]
  },
  {
   "cell_type": "code",
   "execution_count": 29,
   "id": "bc1a0712",
   "metadata": {},
   "outputs": [],
   "source": [
    "#Loading of the data\n",
    "data = load_diabetes()\n",
    "X = data.data\n",
    "y = data.target\n",
    "\n",
    "#Split the data into train and test samples\n",
    "X_train, X_test, y_train, y_test = train_test_split(X, y, test_size=0.33, random_state=42)\n",
    "\n",
    "# Represent the groups as an array containing the indexes of the group column/variable inside the data\n",
    "groups = np.array([[2,9],[5,6],[0,1,2],[7,8],[4,8]], dtype=object)"
   ]
  },
  {
   "cell_type": "code",
   "execution_count": 30,
   "id": "ad6708e3",
   "metadata": {},
   "outputs": [
    {
     "name": "stdout",
     "output_type": "stream",
     "text": [
      "[list([2, 9]) list([5, 6]) list([0, 1, 2]) list([7, 8]) list([4, 8])]\n"
     ]
    }
   ],
   "source": [
    "print(groups)"
   ]
  },
  {
   "cell_type": "code",
   "execution_count": 31,
   "id": "f25b93a8",
   "metadata": {},
   "outputs": [
    {
     "data": {
      "text/html": [
       "<div>\n",
       "<style scoped>\n",
       "    .dataframe tbody tr th:only-of-type {\n",
       "        vertical-align: middle;\n",
       "    }\n",
       "\n",
       "    .dataframe tbody tr th {\n",
       "        vertical-align: top;\n",
       "    }\n",
       "\n",
       "    .dataframe thead th {\n",
       "        text-align: right;\n",
       "    }\n",
       "</style>\n",
       "<table border=\"1\" class=\"dataframe\">\n",
       "  <thead>\n",
       "    <tr style=\"text-align: right;\">\n",
       "      <th></th>\n",
       "      <th>age</th>\n",
       "      <th>sex</th>\n",
       "      <th>bmi</th>\n",
       "      <th>bp</th>\n",
       "      <th>s1</th>\n",
       "      <th>s2</th>\n",
       "      <th>s3</th>\n",
       "      <th>s4</th>\n",
       "      <th>s5</th>\n",
       "      <th>s6</th>\n",
       "      <th>target</th>\n",
       "    </tr>\n",
       "  </thead>\n",
       "  <tbody>\n",
       "    <tr>\n",
       "      <th>0</th>\n",
       "      <td>0.038076</td>\n",
       "      <td>0.050680</td>\n",
       "      <td>0.061696</td>\n",
       "      <td>0.021872</td>\n",
       "      <td>-0.044223</td>\n",
       "      <td>-0.034821</td>\n",
       "      <td>-0.043401</td>\n",
       "      <td>-0.002592</td>\n",
       "      <td>0.019908</td>\n",
       "      <td>-0.017646</td>\n",
       "      <td>151.0</td>\n",
       "    </tr>\n",
       "    <tr>\n",
       "      <th>1</th>\n",
       "      <td>-0.001882</td>\n",
       "      <td>-0.044642</td>\n",
       "      <td>-0.051474</td>\n",
       "      <td>-0.026328</td>\n",
       "      <td>-0.008449</td>\n",
       "      <td>-0.019163</td>\n",
       "      <td>0.074412</td>\n",
       "      <td>-0.039493</td>\n",
       "      <td>-0.068330</td>\n",
       "      <td>-0.092204</td>\n",
       "      <td>75.0</td>\n",
       "    </tr>\n",
       "    <tr>\n",
       "      <th>2</th>\n",
       "      <td>0.085299</td>\n",
       "      <td>0.050680</td>\n",
       "      <td>0.044451</td>\n",
       "      <td>-0.005671</td>\n",
       "      <td>-0.045599</td>\n",
       "      <td>-0.034194</td>\n",
       "      <td>-0.032356</td>\n",
       "      <td>-0.002592</td>\n",
       "      <td>0.002864</td>\n",
       "      <td>-0.025930</td>\n",
       "      <td>141.0</td>\n",
       "    </tr>\n",
       "    <tr>\n",
       "      <th>3</th>\n",
       "      <td>-0.089063</td>\n",
       "      <td>-0.044642</td>\n",
       "      <td>-0.011595</td>\n",
       "      <td>-0.036656</td>\n",
       "      <td>0.012191</td>\n",
       "      <td>0.024991</td>\n",
       "      <td>-0.036038</td>\n",
       "      <td>0.034309</td>\n",
       "      <td>0.022692</td>\n",
       "      <td>-0.009362</td>\n",
       "      <td>206.0</td>\n",
       "    </tr>\n",
       "    <tr>\n",
       "      <th>4</th>\n",
       "      <td>0.005383</td>\n",
       "      <td>-0.044642</td>\n",
       "      <td>-0.036385</td>\n",
       "      <td>0.021872</td>\n",
       "      <td>0.003935</td>\n",
       "      <td>0.015596</td>\n",
       "      <td>0.008142</td>\n",
       "      <td>-0.002592</td>\n",
       "      <td>-0.031991</td>\n",
       "      <td>-0.046641</td>\n",
       "      <td>135.0</td>\n",
       "    </tr>\n",
       "    <tr>\n",
       "      <th>5</th>\n",
       "      <td>-0.092695</td>\n",
       "      <td>-0.044642</td>\n",
       "      <td>-0.040696</td>\n",
       "      <td>-0.019442</td>\n",
       "      <td>-0.068991</td>\n",
       "      <td>-0.079288</td>\n",
       "      <td>0.041277</td>\n",
       "      <td>-0.076395</td>\n",
       "      <td>-0.041180</td>\n",
       "      <td>-0.096346</td>\n",
       "      <td>97.0</td>\n",
       "    </tr>\n",
       "    <tr>\n",
       "      <th>6</th>\n",
       "      <td>-0.045472</td>\n",
       "      <td>0.050680</td>\n",
       "      <td>-0.047163</td>\n",
       "      <td>-0.015999</td>\n",
       "      <td>-0.040096</td>\n",
       "      <td>-0.024800</td>\n",
       "      <td>0.000779</td>\n",
       "      <td>-0.039493</td>\n",
       "      <td>-0.062913</td>\n",
       "      <td>-0.038357</td>\n",
       "      <td>138.0</td>\n",
       "    </tr>\n",
       "    <tr>\n",
       "      <th>7</th>\n",
       "      <td>0.063504</td>\n",
       "      <td>0.050680</td>\n",
       "      <td>-0.001895</td>\n",
       "      <td>0.066630</td>\n",
       "      <td>0.090620</td>\n",
       "      <td>0.108914</td>\n",
       "      <td>0.022869</td>\n",
       "      <td>0.017703</td>\n",
       "      <td>-0.035817</td>\n",
       "      <td>0.003064</td>\n",
       "      <td>63.0</td>\n",
       "    </tr>\n",
       "    <tr>\n",
       "      <th>8</th>\n",
       "      <td>0.041708</td>\n",
       "      <td>0.050680</td>\n",
       "      <td>0.061696</td>\n",
       "      <td>-0.040099</td>\n",
       "      <td>-0.013953</td>\n",
       "      <td>0.006202</td>\n",
       "      <td>-0.028674</td>\n",
       "      <td>-0.002592</td>\n",
       "      <td>-0.014956</td>\n",
       "      <td>0.011349</td>\n",
       "      <td>110.0</td>\n",
       "    </tr>\n",
       "    <tr>\n",
       "      <th>9</th>\n",
       "      <td>-0.070900</td>\n",
       "      <td>-0.044642</td>\n",
       "      <td>0.039062</td>\n",
       "      <td>-0.033214</td>\n",
       "      <td>-0.012577</td>\n",
       "      <td>-0.034508</td>\n",
       "      <td>-0.024993</td>\n",
       "      <td>-0.002592</td>\n",
       "      <td>0.067736</td>\n",
       "      <td>-0.013504</td>\n",
       "      <td>310.0</td>\n",
       "    </tr>\n",
       "  </tbody>\n",
       "</table>\n",
       "</div>"
      ],
      "text/plain": [
       "        age       sex       bmi        bp        s1        s2        s3  \\\n",
       "0  0.038076  0.050680  0.061696  0.021872 -0.044223 -0.034821 -0.043401   \n",
       "1 -0.001882 -0.044642 -0.051474 -0.026328 -0.008449 -0.019163  0.074412   \n",
       "2  0.085299  0.050680  0.044451 -0.005671 -0.045599 -0.034194 -0.032356   \n",
       "3 -0.089063 -0.044642 -0.011595 -0.036656  0.012191  0.024991 -0.036038   \n",
       "4  0.005383 -0.044642 -0.036385  0.021872  0.003935  0.015596  0.008142   \n",
       "5 -0.092695 -0.044642 -0.040696 -0.019442 -0.068991 -0.079288  0.041277   \n",
       "6 -0.045472  0.050680 -0.047163 -0.015999 -0.040096 -0.024800  0.000779   \n",
       "7  0.063504  0.050680 -0.001895  0.066630  0.090620  0.108914  0.022869   \n",
       "8  0.041708  0.050680  0.061696 -0.040099 -0.013953  0.006202 -0.028674   \n",
       "9 -0.070900 -0.044642  0.039062 -0.033214 -0.012577 -0.034508 -0.024993   \n",
       "\n",
       "         s4        s5        s6  target  \n",
       "0 -0.002592  0.019908 -0.017646   151.0  \n",
       "1 -0.039493 -0.068330 -0.092204    75.0  \n",
       "2 -0.002592  0.002864 -0.025930   141.0  \n",
       "3  0.034309  0.022692 -0.009362   206.0  \n",
       "4 -0.002592 -0.031991 -0.046641   135.0  \n",
       "5 -0.076395 -0.041180 -0.096346    97.0  \n",
       "6 -0.039493 -0.062913 -0.038357   138.0  \n",
       "7  0.017703 -0.035817  0.003064    63.0  \n",
       "8 -0.002592 -0.014956  0.011349   110.0  \n",
       "9 -0.002592  0.067736 -0.013504   310.0  "
      ]
     },
     "execution_count": 31,
     "metadata": {},
     "output_type": "execute_result"
    }
   ],
   "source": [
    "df = load_diabetes(as_frame=True)\n",
    "df.data.join(df.target).head(10)"
   ]
  },
  {
   "cell_type": "code",
   "execution_count": 32,
   "id": "5baba63b",
   "metadata": {
    "scrolled": false
   },
   "outputs": [
    {
     "name": "stdout",
     "output_type": "stream",
     "text": [
      ".. _diabetes_dataset:\n",
      "\n",
      "Diabetes dataset\n",
      "----------------\n",
      "\n",
      "Ten baseline variables, age, sex, body mass index, average blood\n",
      "pressure, and six blood serum measurements were obtained for each of n =\n",
      "442 diabetes patients, as well as the response of interest, a\n",
      "quantitative measure of disease progression one year after baseline.\n",
      "\n",
      "**Data Set Characteristics:**\n",
      "\n",
      "  :Number of Instances: 442\n",
      "\n",
      "  :Number of Attributes: First 10 columns are numeric predictive values\n",
      "\n",
      "  :Target: Column 11 is a quantitative measure of disease progression one year after baseline\n",
      "\n",
      "  :Attribute Information:\n",
      "      - age     age in years\n",
      "      - sex\n",
      "      - bmi     body mass index\n",
      "      - bp      average blood pressure\n",
      "      - s1      tc, T-Cells (a type of white blood cells)\n",
      "      - s2      ldl, low-density lipoproteins\n",
      "      - s3      hdl, high-density lipoproteins\n",
      "      - s4      tch, thyroid stimulating hormone\n",
      "      - s5      ltg, lamotrigine\n",
      "      - s6      glu, blood sugar level\n",
      "\n",
      "Note: Each of these 10 feature variables have been mean centered and scaled by the standard deviation times `n_samples` (i.e. the sum of squares of each column totals 1).\n",
      "\n",
      "Source URL:\n",
      "https://www4.stat.ncsu.edu/~boos/var.select/diabetes.html\n",
      "\n",
      "For more information see:\n",
      "Bradley Efron, Trevor Hastie, Iain Johnstone and Robert Tibshirani (2004) \"Least Angle Regression,\" Annals of Statistics (with discussion), 407-499.\n",
      "(https://web.stanford.edu/~hastie/Papers/LARS/LeastAngle_2002.pdf)\n"
     ]
    }
   ],
   "source": [
    "print(data.DESCR)"
   ]
  },
  {
   "cell_type": "markdown",
   "id": "003db7d2",
   "metadata": {},
   "source": [
    "## Parameters"
   ]
  },
  {
   "cell_type": "code",
   "execution_count": 33,
   "id": "5b5ff132",
   "metadata": {},
   "outputs": [],
   "source": [
    "sample_size = X_train.shape[0]\n",
    "\n",
    "len_groups = np.array([len(group) for group in groups])\n",
    "\n",
    "min_samples_leaf = 1 # The minimum number of samples in a leaf\n",
    "min_samples_split = 2 # The minimum number of samples needed to split the node\n",
    "random_state = 2547 # An int, the seed to fix the randomness (default=None, the randomness isn't fixed)\n",
    "                            # Controls both the randomness of the bootstrapping of the samples used when building trees \n",
    "                            # (if bootstrap=True) and the sampling of the features to consider when looking for the best\n",
    "                            # split at each node# The seed\n",
    "max_depth = None # The maximal depth for the CARTGV tree (default=None, create a maximal tree)\n",
    "max_depth_splitting_tree = 2 # The maximal depth for the splitting trees\n",
    "mgroup = len(groups) # The number of group to visit\n",
    "mvar = len_groups # The number of variable to visit\n",
    "pen = None # The penality function\n",
    "min_impurity_decrease = 0.0 # The minimum decrease in impurity that we want to achieve after a split\n",
    "min_impurity_split = 0.0 # The minimum impurity under which the node is considered a leaf\n",
    "max_features=None #  An int, not used anymore\n",
    "max_leaf_nodes=None # An int, the maximum number of leaf the tree will be restricted to (default=None, no restrictions)\n",
    "ccp_alpha=0.0     # A non-negative float, the complexity parameter used for tree pruning"
   ]
  },
  {
   "cell_type": "markdown",
   "id": "d8957a35",
   "metadata": {},
   "source": [
    "## Object construction"
   ]
  },
  {
   "cell_type": "markdown",
   "id": "1a485007",
   "metadata": {},
   "source": [
    "Just like the first example we create here the object that will represent our tree. We use our previous parameters to define how our tree will be constructed.\n",
    "\n",
    "Important to note, if we have max_depth_splitting_tree = 1 and our groups are composed only of one variable each and one for each variable, we will create a CART tree such as the DecisionTreeRegressor of Scikit-learn."
   ]
  },
  {
   "cell_type": "code",
   "execution_count": 34,
   "id": "b963f62e",
   "metadata": {},
   "outputs": [],
   "source": [
    "cartgvtreeregressor = DecisionCARTGVTreeRegressor(mvar=mvar, \n",
    "                            mgroup=mgroup,\n",
    "                            random_state=random_state, \n",
    "                            max_depth_splitting_tree=max_depth_splitting_tree,\n",
    "                            pen=pen,\n",
    "                            min_samples_leaf = 1, \n",
    "                            min_samples_split = 2, \n",
    "                            max_depth = None,\n",
    "                            min_impurity_decrease = 0.0,\n",
    "                            min_impurity_split = 0.0,\n",
    "                            min_weight_fraction_leaf=0.0,\n",
    "                            max_features=None,\n",
    "                            max_leaf_nodes=None,\n",
    "                            ccp_alpha=0.0)"
   ]
  },
  {
   "cell_type": "markdown",
   "id": "4c48c464",
   "metadata": {},
   "source": [
    "## Tree construction"
   ]
  },
  {
   "cell_type": "markdown",
   "id": "3336c961",
   "metadata": {},
   "source": [
    "We construct our tree with our training datas and groups. After this our model will be trained and we will be able to predict, compute our classification score."
   ]
  },
  {
   "cell_type": "code",
   "execution_count": 35,
   "id": "d48904bb",
   "metadata": {},
   "outputs": [
    {
     "name": "stderr",
     "output_type": "stream",
     "text": [
      "../rfgi\\CARTGV_trees.py:308: FutureWarning: The min_impurity_split parameter is deprecated. Its default value has changed from 1e-7 to 0 in version 0.23, and it will be removed in 1.0 (renaming of 0.25). Use the min_impurity_decrease parameter instead.\n",
      "  warnings.warn(\n"
     ]
    },
    {
     "data": {
      "text/plain": [
       "DecisionCARTGVTreeRegressor(mgroup=5, min_impurity_split=0.0,\n",
       "                            mvar=array([2, 2, 3, 2, 2]), random_state=2547)"
      ]
     },
     "execution_count": 35,
     "metadata": {},
     "output_type": "execute_result"
    }
   ],
   "source": [
    "cartgvtreeregressor.fit(X_train, y_train, groups)"
   ]
  },
  {
   "cell_type": "markdown",
   "id": "edeb9eb7",
   "metadata": {},
   "source": [
    "## Regression score"
   ]
  },
  {
   "cell_type": "code",
   "execution_count": 36,
   "id": "55dac220",
   "metadata": {
    "scrolled": true
   },
   "outputs": [
    {
     "data": {
      "text/plain": [
       "-0.1802735135367779"
      ]
     },
     "execution_count": 36,
     "metadata": {},
     "output_type": "execute_result"
    }
   ],
   "source": [
    "cartgvtreeregressor.score(X_test, y_test)"
   ]
  },
  {
   "cell_type": "markdown",
   "id": "a3c8d5d2",
   "metadata": {},
   "source": [
    "### Scikit-learn Regression tree and score\n",
    "\n",
    "Link to the documentation :\n",
    "https://scikit-learn.org/stable/modules/generated/sklearn.tree.DecisionTreeRegressor.html"
   ]
  },
  {
   "cell_type": "code",
   "execution_count": 37,
   "id": "35846413",
   "metadata": {},
   "outputs": [
    {
     "data": {
      "text/plain": [
       "-0.16604114864860464"
      ]
     },
     "execution_count": 37,
     "metadata": {},
     "output_type": "execute_result"
    }
   ],
   "source": [
    "reg = DecisionTreeRegressor()\n",
    "reg.fit(X_train, y_train) # Train the tree\n",
    "reg.score(X_test, y_test) # Get the prediction score"
   ]
  },
  {
   "cell_type": "markdown",
   "id": "8dbb1d5e",
   "metadata": {},
   "source": [
    "With a negative score, we have a really poor model and prediction. We can compare it to Scikit-learn DecisionTreeRegressor that did a just a bit better than us."
   ]
  },
  {
   "cell_type": "markdown",
   "id": "b542d8f5",
   "metadata": {},
   "source": [
    "## Result and visualisation\n",
    "In this section only the informations about the first 50 nodes of the CARTGV tree will be shown as there's too much of them."
   ]
  },
  {
   "cell_type": "markdown",
   "id": "2cf5d45d",
   "metadata": {},
   "source": [
    "### Parents\n",
    "It works the same way as the previous example. Each number represent the parent of the node with the id the index in the array.\n",
    "The parent -2 represent the root."
   ]
  },
  {
   "cell_type": "code",
   "execution_count": 38,
   "id": "a09ca971",
   "metadata": {
    "scrolled": false
   },
   "outputs": [
    {
     "name": "stdout",
     "output_type": "stream",
     "text": [
      "[-2.  0.  1.  2.  2.  2.  5.  5.  2.  8.  8.  1.  1. 12. 12. 12. 12.  1.\n",
      " 17. 18. 18. 17. 21. 21. 21. 17. 25. 25. 25. 17. 29. 29.  0. 32. 33. 34.\n",
      " 34. 36. 36. 34. 39. 39. 34. 42. 42. 42. 33. 46. 46. 48.]\n"
     ]
    }
   ],
   "source": [
    "print(cartgvtreeregressor.tree_.nodes_parent[:50])"
   ]
  },
  {
   "cell_type": "markdown",
   "id": "475709b6",
   "metadata": {},
   "source": [
    "We cannot say how many children each node has because only the first 50 nodes are presented, but we still can see that our tree create more than 2 children for a node. if we take for example the 2nd node, we can see 3 node having the node of id=2."
   ]
  },
  {
   "cell_type": "markdown",
   "id": "2c6df751",
   "metadata": {},
   "source": [
    "### Impurities\n",
    "Each value is the value of the node with the id the index in the array For example, the root of id 0 has for impurity 6015. We can see that this impurity decrease throughout the nodes, meaning that we found correct way to split our nodes."
   ]
  },
  {
   "cell_type": "code",
   "execution_count": 39,
   "id": "66651809",
   "metadata": {},
   "outputs": [
    {
     "name": "stdout",
     "output_type": "stream",
     "text": [
      "[6.01594904e+03 2.79756198e+03 1.85580556e+03 0.00000000e+00\n",
      " 0.00000000e+00 2.50000000e+01 0.00000000e+00 0.00000000e+00\n",
      " 1.00000000e+02 0.00000000e+00 0.00000000e+00 0.00000000e+00\n",
      " 6.86875000e+01 0.00000000e+00 0.00000000e+00 0.00000000e+00\n",
      " 0.00000000e+00 8.18000000e+02 1.00000000e+00 0.00000000e+00\n",
      " 0.00000000e+00 4.27500000e+01 0.00000000e+00 0.00000000e+00\n",
      " 0.00000000e+00 3.46666667e+01 0.00000000e+00 0.00000000e+00\n",
      " 0.00000000e+00 1.00000000e+02 0.00000000e+00 0.00000000e+00\n",
      " 4.25725961e+03 1.63768359e+03 3.98609375e+02 0.00000000e+00\n",
      " 2.25000000e+00 0.00000000e+00 0.00000000e+00 9.00000000e+00\n",
      " 0.00000000e+00 0.00000000e+00 7.35555556e+01 0.00000000e+00\n",
      " 0.00000000e+00 0.00000000e+00 7.57142857e+02 0.00000000e+00\n",
      " 2.50000000e-01 0.00000000e+00]\n"
     ]
    }
   ],
   "source": [
    "print(cartgvtreeregressor.tree_.nodes_impurities[:50])"
   ]
  },
  {
   "cell_type": "markdown",
   "id": "4febf310",
   "metadata": {},
   "source": [
    "These impurities are computed with the MSE criterion (Mean Square Error)."
   ]
  },
  {
   "cell_type": "markdown",
   "id": "7ae30e45",
   "metadata": {},
   "source": [
    "### Number of samples in each nodes\n",
    "This array help us see the number of samples in each node. We started with 296 observations that were splitted in different node until we considered the node was a leaf."
   ]
  },
  {
   "cell_type": "code",
   "execution_count": 40,
   "id": "f3e68deb",
   "metadata": {
    "scrolled": true
   },
   "outputs": [
    {
     "name": "stdout",
     "output_type": "stream",
     "text": [
      "[296.  22.   6.   1.   1.   2.   1.   1.   2.   1.   1.   1.   4.   1.\n",
      "   1.   1.   1.  11.   2.   1.   1.   4.   1.   1.   2.   3.   1.   1.\n",
      "   1.   2.   1.   1.  87.  16.   8.   1.   2.   1.   1.   2.   1.   1.\n",
      "   3.   1.   1.   1.   7.   1.   2.   1.]\n",
      "\n",
      "\n",
      "[296.  22.   6.   1.   1.   2.   1.   1.   2.   1.   1.   1.   4.   1.\n",
      "   1.   1.   1.  11.   2.   1.   1.   4.   1.   1.   2.   3.   1.   1.\n",
      "   1.   2.   1.   1.  87.  16.   8.   1.   2.   1.   1.   2.   1.   1.\n",
      "   3.   1.   1.   1.   7.   1.   2.   1.]\n"
     ]
    }
   ],
   "source": [
    "print(cartgvtreeregressor.tree_.nodes_n_node_samples[:50])\n",
    "print('\\n')\n",
    "print(cartgvtreeregressor.tree_.nodes_weighted_n_node_samples[:50])"
   ]
  },
  {
   "cell_type": "markdown",
   "id": "de1e9deb",
   "metadata": {},
   "source": [
    "### Groups\n",
    "Represent the group that splited the node. A value of -1 means the node is a leaf and wasn't splitted. Here the root was splitted using the first group and its first child of id 1 has been splitted using the second group."
   ]
  },
  {
   "cell_type": "code",
   "execution_count": 41,
   "id": "9840e445",
   "metadata": {
    "scrolled": true
   },
   "outputs": [
    {
     "name": "stdout",
     "output_type": "stream",
     "text": [
      "[ 0.  1.  0. -2. -2.  3. -2. -2.  2. -2. -2. -2.  0. -2. -2. -2. -2.  4.\n",
      "  0. -2. -2.  0. -2. -2. -2.  1. -2. -2. -2.  1. -2. -2.  4.  1.  4. -2.\n",
      "  2. -2. -2.  1. -2. -2.  2. -2. -2. -2.  2. -2.  0. -2.]\n"
     ]
    }
   ],
   "source": [
    "print(cartgvtreeregressor.tree_.nodes_group[:50])"
   ]
  },
  {
   "cell_type": "markdown",
   "id": "423e5ca9",
   "metadata": {},
   "source": [
    "### Number of children\n",
    "This array give us the number of children of each node."
   ]
  },
  {
   "cell_type": "code",
   "execution_count": 42,
   "id": "6960d344",
   "metadata": {
    "scrolled": true
   },
   "outputs": [
    {
     "name": "stdout",
     "output_type": "stream",
     "text": [
      "[4. 4. 4. 0. 0. 2. 0. 0. 2. 0. 0. 0. 4. 0. 0. 0. 0. 4. 2. 0. 0. 3. 0. 0.\n",
      " 0. 3. 0. 0. 0. 2. 0. 0. 4. 3. 4. 0. 2. 0. 0. 2. 0. 0. 3. 0. 0. 0. 4. 0.\n",
      " 2. 0.]\n"
     ]
    }
   ],
   "source": [
    "print(cartgvtreeregressor.tree_.nodes_n_childs[:50])"
   ]
  },
  {
   "cell_type": "markdown",
   "id": "54ea030b",
   "metadata": {},
   "source": [
    "### Number of nodes in the tree"
   ]
  },
  {
   "cell_type": "code",
   "execution_count": 43,
   "id": "adf45736",
   "metadata": {},
   "outputs": [
    {
     "name": "stdout",
     "output_type": "stream",
     "text": [
      "433\n"
     ]
    }
   ],
   "source": [
    "print(cartgvtreeregressor.tree_.node_count)"
   ]
  },
  {
   "cell_type": "markdown",
   "id": "c439ac8e",
   "metadata": {},
   "source": [
    "### Splitting trees\n",
    "Here are the splitting trees in order of node id. The first one is the splitting tree of the root for example. Only the splitting trees of the first ten nodes are presented. "
   ]
  },
  {
   "cell_type": "code",
   "execution_count": 44,
   "id": "4cebdb88",
   "metadata": {
    "scrolled": true
   },
   "outputs": [
    {
     "data": {
      "image/png": "[encoded data removed]",
      "text/plain": [
       "<Figure size 864x432 with 1 Axes>"
      ]
     },
     "metadata": {
      "needs_background": "light"
     },
     "output_type": "display_data"
    }
   ],
   "source": [
    "clf = DecisionTreeRegressor(max_depth=max_depth, random_state=random_state, max_features=len(groups[0]),\n",
    "                             max_leaf_nodes=X.shape[0])\n",
    "                                                    \n",
    "clf.tree_ = cartgvtreeregressor.tree_.nodes_splitting_trees[0]\n",
    "fig, ax = plt.subplots(1, figsize=(12, 6))\n",
    "plot_tree(clf)\n",
    "plt.show()"
   ]
  },
  {
   "cell_type": "markdown",
   "id": "a33df66a",
   "metadata": {},
   "source": [
    "Here we have the splitting tree of the root of the tree. Just like we parametered, the splitting tree has a depth of 2. This tree has 4 leaves that will be the children of the node.\n",
    "\n",
    "We can also see mean value in the nodes. For example the most right leaf has a mean value of 273.727. We can also see the impurity (mse), the goal is to decrease this impurity in the children node.\n",
    "\n",
    "It is also important to remark the variable of the group used to split the node in the splitting tree. The first node was splitted using the first variable of the group the same as the two other splits."
   ]
  },
  {
   "cell_type": "code",
   "execution_count": 45,
   "id": "fb9c11ab",
   "metadata": {},
   "outputs": [
    {
     "data": {
      "image/png": "[encoded data removed]",
      "text/plain": [
       "<Figure size 864x432 with 1 Axes>"
      ]
     },
     "metadata": {
      "needs_background": "light"
     },
     "output_type": "display_data"
    }
   ],
   "source": [
    "clf.tree_ = cartgvtreeregressor.tree_.nodes_splitting_trees[1]\n",
    "fig, ax = plt.subplots(1, figsize=(12, 6))\n",
    "plot_tree(clf)\n",
    "plt.show()"
   ]
  },
  {
   "cell_type": "markdown",
   "id": "260f6478",
   "metadata": {},
   "source": [
    "We have here the splitting tree of the first child of the root (The most right leaf). On this splitting tree we can see 4 leaves with one wth an impurity of 0. In a regression problem, a node can be considered a leaf if there's less or equal to 5 samples in the node. Here we can see 2 leaves, at the center."
   ]
  },
  {
   "cell_type": "code",
   "execution_count": 46,
   "id": "97c6159a",
   "metadata": {
    "scrolled": false
   },
   "outputs": [
    {
     "data": {
      "image/png": "[encoded data removed]",
      "text/plain": [
       "<Figure size 864x432 with 1 Axes>"
      ]
     },
     "metadata": {
      "needs_background": "light"
     },
     "output_type": "display_data"
    }
   ],
   "source": [
    "clf.tree_ = cartgvtreeregressor.tree_.nodes_splitting_trees[2]\n",
    "fig, ax = plt.subplots(1, figsize=(12, 6))\n",
    "plot_tree(clf)\n",
    "plt.show()"
   ]
  },
  {
   "cell_type": "markdown",
   "id": "c0b80402",
   "metadata": {},
   "source": [
    "Here is the splitting tree of the right leaf with an impurity of 1855.806 that we split to obtain 4 nodes leaves a number of samples under 5. We can see here the value that will be predicted in those leaves with the value line."
   ]
  },
  {
   "cell_type": "markdown",
   "id": "73f9b848",
   "metadata": {},
   "source": [
    "## Forest"
   ]
  },
  {
   "cell_type": "code",
   "execution_count": 47,
   "id": "807aa364",
   "metadata": {},
   "outputs": [],
   "source": [
    "n_estimators=100            # An int, the number of trees that will be created\n",
    "criterion=\"mse\"            # A string, the criterion name that will be used to construct the forest\n",
    "splitter=\"best\"             # A string, the splitter name that will be used to construct the forest\n",
    "max_depth=None              # An int, the maximum depth of the trees\n",
    "max_depth_splitting_tree=2  # An int, the maximal depth of the splitting trees\n",
    "min_samples_split=2         # An int, the minimal number of samples in a node needed to split it\n",
    "min_samples_leaf=1          # An int, the minimal number under which the nodes are considered leaves\n",
    "min_weight_fraction_leaf=0. # An int, the minimal weigth in a node under which it is considered a leaf\n",
    "mvar=\"root\"                 # An string or array/list, The number of variable that will be used \n",
    "                            # to construct the splitting trees for each group\n",
    "mgroup=None                 # An int, the number of group that will be tested to find the best splitting tree\n",
    "pen=None                    # A function with one parameter or a string (\"root\", \"size\", \"log\"), The penality function\n",
    "                            # on the group size for the impurity calculation\n",
    "max_leaf_nodes=None         # An int, the maximum number of leaf the tree will be restricted to\n",
    "min_impurity_decrease=0.    # A float, The value under which the decrease in impurity of a split need to be to split a node\n",
    "min_impurity_split=None     # A float, The minimal value of impurity under which the node is considered a leaf\n",
    "bootstrap=True              # A boolean, If true the forest will use the bootstrap method\n",
    "oob_score=False             # A boolean, If true the forest will compute the out-of-bag score\n",
    "ib_score=False              # A boolean, If true, the forest will compute the in-bag score\n",
    "n_jobs=None                 # An int, the number of process, threads that will be used to create the forest\n",
    "random_state=None           # An int, the seed to fix the randomness\n",
    "verbose=0                   # An int, If verbose > 0 It will print the stepts of the forest\n",
    "warm_start=False            # A boolean, Reuse the solution of the previous fit and add more estimators\n",
    "ccp_alpha=0.0               # A non-negative float, the complexity parameter used for tree pruning\n",
    "max_samples=None            # An int, The number of samples to draw from the data to train each estimator\n",
    "random=True                 #  A boolean, Remove the randomness in the forest"
   ]
  },
  {
   "cell_type": "code",
   "execution_count": 48,
   "id": "fd6ca752",
   "metadata": {},
   "outputs": [],
   "source": [
    "rfgv = RFGVRegressor(n_jobs=n_jobs, \n",
    "                      n_estimators=n_estimators, \n",
    "                      mvar=mvar, \n",
    "                      mgroup=len(groups)/3, \n",
    "                      max_depth_splitting_tree=max_depth_splitting_tree, \n",
    "                      random_state=2547, \n",
    "                      verbose=0,\n",
    "                      criterion=\"mse\",\n",
    "                      splitter=\"best\",\n",
    "                      max_depth=None,\n",
    "                      min_samples_split=2,\n",
    "                      min_samples_leaf=1,\n",
    "                      min_weight_fraction_leaf=0.0,\n",
    "                      pen=None,\n",
    "                      max_leaf_nodes=None,\n",
    "                      min_impurity_decrease=0.,\n",
    "                      min_impurity_split=None,\n",
    "                      bootstrap=True,\n",
    "                      oob_score=False,\n",
    "                      ib_score=False,\n",
    "                      warm_start=False,\n",
    "                      ccp_alpha=0.0,\n",
    "                      max_samples=None,\n",
    "                      random=True) #verbose >1 for text"
   ]
  },
  {
   "cell_type": "code",
   "execution_count": 49,
   "id": "8aeb3003",
   "metadata": {},
   "outputs": [
    {
     "data": {
      "text/plain": [
       "RFGVRegressor(mgroup=1.6666666666666667, mvar='root', random_state=2547,\n",
       "              splitter=('best',))"
      ]
     },
     "execution_count": 49,
     "metadata": {},
     "output_type": "execute_result"
    }
   ],
   "source": [
    "rfgv.fit(X_train, y_train, groups)"
   ]
  },
  {
   "cell_type": "code",
   "execution_count": 50,
   "id": "fc7c5462",
   "metadata": {},
   "outputs": [
    {
     "data": {
      "text/plain": [
       "0.4954095157579165"
      ]
     },
     "execution_count": 50,
     "metadata": {},
     "output_type": "execute_result"
    }
   ],
   "source": [
    "rfgv.score(X_test, y_test)"
   ]
  },
  {
   "cell_type": "markdown",
   "id": "ecb976a7",
   "metadata": {},
   "source": [
    "We can here compare the score of a forest to a tree. We can see a huge difference with the forest having a score of ~85% instead of the ~-18% of the tree. The number of estimator and the randomness used in the forest helped us in reducing the over-fitting, which helped us having better scores in the end."
   ]
  },
  {
   "cell_type": "markdown",
   "id": "1537a45e",
   "metadata": {},
   "source": [
    "# Example 3 : Breast cancer dataset and binary classification"
   ]
  },
  {
   "cell_type": "markdown",
   "id": "16ddad49",
   "metadata": {},
   "source": [
    "## Data"
   ]
  },
  {
   "cell_type": "code",
   "execution_count": 51,
   "id": "5cff34b9",
   "metadata": {},
   "outputs": [],
   "source": [
    "#Loading of the data\n",
    "data = load_breast_cancer()\n",
    "\n",
    "X = data.data\n",
    "y= data.target\n",
    "\n",
    "#Split the data into train and test samples\n",
    "X_train, X_test, y_train, y_test = train_test_split(X, y, test_size=0.33, random_state=42)\n",
    "X_train, X_val, y_train, y_val = train_test_split(X_train, y_train, test_size=0.33, random_state=42)\n",
    "\n",
    "groups = np.array([[0,2,3,10,12,13,20,22,23],[1,4,5,11,14,15,21,24,25],[6,7,16,17,26,27],[8,9,18,19,28,29]], dtype=object)"
   ]
  },
  {
   "cell_type": "code",
   "execution_count": 52,
   "id": "d77d422a",
   "metadata": {},
   "outputs": [
    {
     "data": {
      "text/html": [
       "<div>\n",
       "<style scoped>\n",
       "    .dataframe tbody tr th:only-of-type {\n",
       "        vertical-align: middle;\n",
       "    }\n",
       "\n",
       "    .dataframe tbody tr th {\n",
       "        vertical-align: top;\n",
       "    }\n",
       "\n",
       "    .dataframe thead th {\n",
       "        text-align: right;\n",
       "    }\n",
       "</style>\n",
       "<table border=\"1\" class=\"dataframe\">\n",
       "  <thead>\n",
       "    <tr style=\"text-align: right;\">\n",
       "      <th></th>\n",
       "      <th>mean radius</th>\n",
       "      <th>mean texture</th>\n",
       "      <th>mean perimeter</th>\n",
       "      <th>mean area</th>\n",
       "      <th>mean smoothness</th>\n",
       "      <th>mean compactness</th>\n",
       "      <th>mean concavity</th>\n",
       "      <th>mean concave points</th>\n",
       "      <th>mean symmetry</th>\n",
       "      <th>mean fractal dimension</th>\n",
       "      <th>...</th>\n",
       "      <th>worst texture</th>\n",
       "      <th>worst perimeter</th>\n",
       "      <th>worst area</th>\n",
       "      <th>worst smoothness</th>\n",
       "      <th>worst compactness</th>\n",
       "      <th>worst concavity</th>\n",
       "      <th>worst concave points</th>\n",
       "      <th>worst symmetry</th>\n",
       "      <th>worst fractal dimension</th>\n",
       "      <th>target</th>\n",
       "    </tr>\n",
       "  </thead>\n",
       "  <tbody>\n",
       "    <tr>\n",
       "      <th>0</th>\n",
       "      <td>17.99</td>\n",
       "      <td>10.38</td>\n",
       "      <td>122.80</td>\n",
       "      <td>1001.0</td>\n",
       "      <td>0.11840</td>\n",
       "      <td>0.27760</td>\n",
       "      <td>0.30010</td>\n",
       "      <td>0.14710</td>\n",
       "      <td>0.2419</td>\n",
       "      <td>0.07871</td>\n",
       "      <td>...</td>\n",
       "      <td>17.33</td>\n",
       "      <td>184.60</td>\n",
       "      <td>2019.0</td>\n",
       "      <td>0.1622</td>\n",
       "      <td>0.6656</td>\n",
       "      <td>0.7119</td>\n",
       "      <td>0.2654</td>\n",
       "      <td>0.4601</td>\n",
       "      <td>0.11890</td>\n",
       "      <td>0</td>\n",
       "    </tr>\n",
       "    <tr>\n",
       "      <th>1</th>\n",
       "      <td>20.57</td>\n",
       "      <td>17.77</td>\n",
       "      <td>132.90</td>\n",
       "      <td>1326.0</td>\n",
       "      <td>0.08474</td>\n",
       "      <td>0.07864</td>\n",
       "      <td>0.08690</td>\n",
       "      <td>0.07017</td>\n",
       "      <td>0.1812</td>\n",
       "      <td>0.05667</td>\n",
       "      <td>...</td>\n",
       "      <td>23.41</td>\n",
       "      <td>158.80</td>\n",
       "      <td>1956.0</td>\n",
       "      <td>0.1238</td>\n",
       "      <td>0.1866</td>\n",
       "      <td>0.2416</td>\n",
       "      <td>0.1860</td>\n",
       "      <td>0.2750</td>\n",
       "      <td>0.08902</td>\n",
       "      <td>0</td>\n",
       "    </tr>\n",
       "    <tr>\n",
       "      <th>2</th>\n",
       "      <td>19.69</td>\n",
       "      <td>21.25</td>\n",
       "      <td>130.00</td>\n",
       "      <td>1203.0</td>\n",
       "      <td>0.10960</td>\n",
       "      <td>0.15990</td>\n",
       "      <td>0.19740</td>\n",
       "      <td>0.12790</td>\n",
       "      <td>0.2069</td>\n",
       "      <td>0.05999</td>\n",
       "      <td>...</td>\n",
       "      <td>25.53</td>\n",
       "      <td>152.50</td>\n",
       "      <td>1709.0</td>\n",
       "      <td>0.1444</td>\n",
       "      <td>0.4245</td>\n",
       "      <td>0.4504</td>\n",
       "      <td>0.2430</td>\n",
       "      <td>0.3613</td>\n",
       "      <td>0.08758</td>\n",
       "      <td>0</td>\n",
       "    </tr>\n",
       "    <tr>\n",
       "      <th>3</th>\n",
       "      <td>11.42</td>\n",
       "      <td>20.38</td>\n",
       "      <td>77.58</td>\n",
       "      <td>386.1</td>\n",
       "      <td>0.14250</td>\n",
       "      <td>0.28390</td>\n",
       "      <td>0.24140</td>\n",
       "      <td>0.10520</td>\n",
       "      <td>0.2597</td>\n",
       "      <td>0.09744</td>\n",
       "      <td>...</td>\n",
       "      <td>26.50</td>\n",
       "      <td>98.87</td>\n",
       "      <td>567.7</td>\n",
       "      <td>0.2098</td>\n",
       "      <td>0.8663</td>\n",
       "      <td>0.6869</td>\n",
       "      <td>0.2575</td>\n",
       "      <td>0.6638</td>\n",
       "      <td>0.17300</td>\n",
       "      <td>0</td>\n",
       "    </tr>\n",
       "    <tr>\n",
       "      <th>4</th>\n",
       "      <td>20.29</td>\n",
       "      <td>14.34</td>\n",
       "      <td>135.10</td>\n",
       "      <td>1297.0</td>\n",
       "      <td>0.10030</td>\n",
       "      <td>0.13280</td>\n",
       "      <td>0.19800</td>\n",
       "      <td>0.10430</td>\n",
       "      <td>0.1809</td>\n",
       "      <td>0.05883</td>\n",
       "      <td>...</td>\n",
       "      <td>16.67</td>\n",
       "      <td>152.20</td>\n",
       "      <td>1575.0</td>\n",
       "      <td>0.1374</td>\n",
       "      <td>0.2050</td>\n",
       "      <td>0.4000</td>\n",
       "      <td>0.1625</td>\n",
       "      <td>0.2364</td>\n",
       "      <td>0.07678</td>\n",
       "      <td>0</td>\n",
       "    </tr>\n",
       "    <tr>\n",
       "      <th>5</th>\n",
       "      <td>12.45</td>\n",
       "      <td>15.70</td>\n",
       "      <td>82.57</td>\n",
       "      <td>477.1</td>\n",
       "      <td>0.12780</td>\n",
       "      <td>0.17000</td>\n",
       "      <td>0.15780</td>\n",
       "      <td>0.08089</td>\n",
       "      <td>0.2087</td>\n",
       "      <td>0.07613</td>\n",
       "      <td>...</td>\n",
       "      <td>23.75</td>\n",
       "      <td>103.40</td>\n",
       "      <td>741.6</td>\n",
       "      <td>0.1791</td>\n",
       "      <td>0.5249</td>\n",
       "      <td>0.5355</td>\n",
       "      <td>0.1741</td>\n",
       "      <td>0.3985</td>\n",
       "      <td>0.12440</td>\n",
       "      <td>0</td>\n",
       "    </tr>\n",
       "    <tr>\n",
       "      <th>6</th>\n",
       "      <td>18.25</td>\n",
       "      <td>19.98</td>\n",
       "      <td>119.60</td>\n",
       "      <td>1040.0</td>\n",
       "      <td>0.09463</td>\n",
       "      <td>0.10900</td>\n",
       "      <td>0.11270</td>\n",
       "      <td>0.07400</td>\n",
       "      <td>0.1794</td>\n",
       "      <td>0.05742</td>\n",
       "      <td>...</td>\n",
       "      <td>27.66</td>\n",
       "      <td>153.20</td>\n",
       "      <td>1606.0</td>\n",
       "      <td>0.1442</td>\n",
       "      <td>0.2576</td>\n",
       "      <td>0.3784</td>\n",
       "      <td>0.1932</td>\n",
       "      <td>0.3063</td>\n",
       "      <td>0.08368</td>\n",
       "      <td>0</td>\n",
       "    </tr>\n",
       "    <tr>\n",
       "      <th>7</th>\n",
       "      <td>13.71</td>\n",
       "      <td>20.83</td>\n",
       "      <td>90.20</td>\n",
       "      <td>577.9</td>\n",
       "      <td>0.11890</td>\n",
       "      <td>0.16450</td>\n",
       "      <td>0.09366</td>\n",
       "      <td>0.05985</td>\n",
       "      <td>0.2196</td>\n",
       "      <td>0.07451</td>\n",
       "      <td>...</td>\n",
       "      <td>28.14</td>\n",
       "      <td>110.60</td>\n",
       "      <td>897.0</td>\n",
       "      <td>0.1654</td>\n",
       "      <td>0.3682</td>\n",
       "      <td>0.2678</td>\n",
       "      <td>0.1556</td>\n",
       "      <td>0.3196</td>\n",
       "      <td>0.11510</td>\n",
       "      <td>0</td>\n",
       "    </tr>\n",
       "    <tr>\n",
       "      <th>8</th>\n",
       "      <td>13.00</td>\n",
       "      <td>21.82</td>\n",
       "      <td>87.50</td>\n",
       "      <td>519.8</td>\n",
       "      <td>0.12730</td>\n",
       "      <td>0.19320</td>\n",
       "      <td>0.18590</td>\n",
       "      <td>0.09353</td>\n",
       "      <td>0.2350</td>\n",
       "      <td>0.07389</td>\n",
       "      <td>...</td>\n",
       "      <td>30.73</td>\n",
       "      <td>106.20</td>\n",
       "      <td>739.3</td>\n",
       "      <td>0.1703</td>\n",
       "      <td>0.5401</td>\n",
       "      <td>0.5390</td>\n",
       "      <td>0.2060</td>\n",
       "      <td>0.4378</td>\n",
       "      <td>0.10720</td>\n",
       "      <td>0</td>\n",
       "    </tr>\n",
       "    <tr>\n",
       "      <th>9</th>\n",
       "      <td>12.46</td>\n",
       "      <td>24.04</td>\n",
       "      <td>83.97</td>\n",
       "      <td>475.9</td>\n",
       "      <td>0.11860</td>\n",
       "      <td>0.23960</td>\n",
       "      <td>0.22730</td>\n",
       "      <td>0.08543</td>\n",
       "      <td>0.2030</td>\n",
       "      <td>0.08243</td>\n",
       "      <td>...</td>\n",
       "      <td>40.68</td>\n",
       "      <td>97.65</td>\n",
       "      <td>711.4</td>\n",
       "      <td>0.1853</td>\n",
       "      <td>1.0580</td>\n",
       "      <td>1.1050</td>\n",
       "      <td>0.2210</td>\n",
       "      <td>0.4366</td>\n",
       "      <td>0.20750</td>\n",
       "      <td>0</td>\n",
       "    </tr>\n",
       "  </tbody>\n",
       "</table>\n",
       "<p>10 rows × 31 columns</p>\n",
       "</div>"
      ],
      "text/plain": [
       "   mean radius  mean texture  mean perimeter  mean area  mean smoothness  \\\n",
       "0        17.99         10.38          122.80     1001.0          0.11840   \n",
       "1        20.57         17.77          132.90     1326.0          0.08474   \n",
       "2        19.69         21.25          130.00     1203.0          0.10960   \n",
       "3        11.42         20.38           77.58      386.1          0.14250   \n",
       "4        20.29         14.34          135.10     1297.0          0.10030   \n",
       "5        12.45         15.70           82.57      477.1          0.12780   \n",
       "6        18.25         19.98          119.60     1040.0          0.09463   \n",
       "7        13.71         20.83           90.20      577.9          0.11890   \n",
       "8        13.00         21.82           87.50      519.8          0.12730   \n",
       "9        12.46         24.04           83.97      475.9          0.11860   \n",
       "\n",
       "   mean compactness  mean concavity  mean concave points  mean symmetry  \\\n",
       "0           0.27760         0.30010              0.14710         0.2419   \n",
       "1           0.07864         0.08690              0.07017         0.1812   \n",
       "2           0.15990         0.19740              0.12790         0.2069   \n",
       "3           0.28390         0.24140              0.10520         0.2597   \n",
       "4           0.13280         0.19800              0.10430         0.1809   \n",
       "5           0.17000         0.15780              0.08089         0.2087   \n",
       "6           0.10900         0.11270              0.07400         0.1794   \n",
       "7           0.16450         0.09366              0.05985         0.2196   \n",
       "8           0.19320         0.18590              0.09353         0.2350   \n",
       "9           0.23960         0.22730              0.08543         0.2030   \n",
       "\n",
       "   mean fractal dimension  ...  worst texture  worst perimeter  worst area  \\\n",
       "0                 0.07871  ...          17.33           184.60      2019.0   \n",
       "1                 0.05667  ...          23.41           158.80      1956.0   \n",
       "2                 0.05999  ...          25.53           152.50      1709.0   \n",
       "3                 0.09744  ...          26.50            98.87       567.7   \n",
       "4                 0.05883  ...          16.67           152.20      1575.0   \n",
       "5                 0.07613  ...          23.75           103.40       741.6   \n",
       "6                 0.05742  ...          27.66           153.20      1606.0   \n",
       "7                 0.07451  ...          28.14           110.60       897.0   \n",
       "8                 0.07389  ...          30.73           106.20       739.3   \n",
       "9                 0.08243  ...          40.68            97.65       711.4   \n",
       "\n",
       "   worst smoothness  worst compactness  worst concavity  worst concave points  \\\n",
       "0            0.1622             0.6656           0.7119                0.2654   \n",
       "1            0.1238             0.1866           0.2416                0.1860   \n",
       "2            0.1444             0.4245           0.4504                0.2430   \n",
       "3            0.2098             0.8663           0.6869                0.2575   \n",
       "4            0.1374             0.2050           0.4000                0.1625   \n",
       "5            0.1791             0.5249           0.5355                0.1741   \n",
       "6            0.1442             0.2576           0.3784                0.1932   \n",
       "7            0.1654             0.3682           0.2678                0.1556   \n",
       "8            0.1703             0.5401           0.5390                0.2060   \n",
       "9            0.1853             1.0580           1.1050                0.2210   \n",
       "\n",
       "   worst symmetry  worst fractal dimension  target  \n",
       "0          0.4601                  0.11890       0  \n",
       "1          0.2750                  0.08902       0  \n",
       "2          0.3613                  0.08758       0  \n",
       "3          0.6638                  0.17300       0  \n",
       "4          0.2364                  0.07678       0  \n",
       "5          0.3985                  0.12440       0  \n",
       "6          0.3063                  0.08368       0  \n",
       "7          0.3196                  0.11510       0  \n",
       "8          0.4378                  0.10720       0  \n",
       "9          0.4366                  0.20750       0  \n",
       "\n",
       "[10 rows x 31 columns]"
      ]
     },
     "execution_count": 52,
     "metadata": {},
     "output_type": "execute_result"
    }
   ],
   "source": [
    "df = load_breast_cancer(as_frame=True)\n",
    "df.data.join(df.target).head(10)"
   ]
  },
  {
   "cell_type": "code",
   "execution_count": 53,
   "id": "10c979c9",
   "metadata": {
    "scrolled": false
   },
   "outputs": [
    {
     "name": "stdout",
     "output_type": "stream",
     "text": [
      ".. _breast_cancer_dataset:\n",
      "\n",
      "Breast cancer wisconsin (diagnostic) dataset\n",
      "--------------------------------------------\n",
      "\n",
      "**Data Set Characteristics:**\n",
      "\n",
      "    :Number of Instances: 569\n",
      "\n",
      "    :Number of Attributes: 30 numeric, predictive attributes and the class\n",
      "\n",
      "    :Attribute Information:\n",
      "        - radius (mean of distances from center to points on the perimeter)\n",
      "        - texture (standard deviation of gray-scale values)\n",
      "        - perimeter\n",
      "        - area\n",
      "        - smoothness (local variation in radius lengths)\n",
      "        - compactness (perimeter^2 / area - 1.0)\n",
      "        - concavity (severity of concave portions of the contour)\n",
      "        - concave points (number of concave portions of the contour)\n",
      "        - symmetry\n",
      "        - fractal dimension (\"coastline approximation\" - 1)\n",
      "\n",
      "        The mean, standard error, and \"worst\" or largest (mean of the three\n",
      "        worst/largest values) of these features were computed for each image,\n",
      "        resulting in 30 features.  For instance, field 0 is Mean Radius, field\n",
      "        10 is Radius SE, field 20 is Worst Radius.\n",
      "\n",
      "        - class:\n",
      "                - WDBC-Malignant\n",
      "                - WDBC-Benign\n",
      "\n",
      "    :Summary Statistics:\n",
      "\n",
      "    ===================================== ====== ======\n",
      "                                           Min    Max\n",
      "    ===================================== ====== ======\n",
      "    radius (mean):                        6.981  28.11\n",
      "    texture (mean):                       9.71   39.28\n",
      "    perimeter (mean):                     43.79  188.5\n",
      "    area (mean):                          143.5  2501.0\n",
      "    smoothness (mean):                    0.053  0.163\n",
      "    compactness (mean):                   0.019  0.345\n",
      "    concavity (mean):                     0.0    0.427\n",
      "    concave points (mean):                0.0    0.201\n",
      "    symmetry (mean):                      0.106  0.304\n",
      "    fractal dimension (mean):             0.05   0.097\n",
      "    radius (standard error):              0.112  2.873\n",
      "    texture (standard error):             0.36   4.885\n",
      "    perimeter (standard error):           0.757  21.98\n",
      "    area (standard error):                6.802  542.2\n",
      "    smoothness (standard error):          0.002  0.031\n",
      "    compactness (standard error):         0.002  0.135\n",
      "    concavity (standard error):           0.0    0.396\n",
      "    concave points (standard error):      0.0    0.053\n",
      "    symmetry (standard error):            0.008  0.079\n",
      "    fractal dimension (standard error):   0.001  0.03\n",
      "    radius (worst):                       7.93   36.04\n",
      "    texture (worst):                      12.02  49.54\n",
      "    perimeter (worst):                    50.41  251.2\n",
      "    area (worst):                         185.2  4254.0\n",
      "    smoothness (worst):                   0.071  0.223\n",
      "    compactness (worst):                  0.027  1.058\n",
      "    concavity (worst):                    0.0    1.252\n",
      "    concave points (worst):               0.0    0.291\n",
      "    symmetry (worst):                     0.156  0.664\n",
      "    fractal dimension (worst):            0.055  0.208\n",
      "    ===================================== ====== ======\n",
      "\n",
      "    :Missing Attribute Values: None\n",
      "\n",
      "    :Class Distribution: 212 - Malignant, 357 - Benign\n",
      "\n",
      "    :Creator:  Dr. William H. Wolberg, W. Nick Street, Olvi L. Mangasarian\n",
      "\n",
      "    :Donor: Nick Street\n",
      "\n",
      "    :Date: November, 1995\n",
      "\n",
      "This is a copy of UCI ML Breast Cancer Wisconsin (Diagnostic) datasets.\n",
      "https://goo.gl/U2Uwz2\n",
      "\n",
      "Features are computed from a digitized image of a fine needle\n",
      "aspirate (FNA) of a breast mass.  They describe\n",
      "characteristics of the cell nuclei present in the image.\n",
      "\n",
      "Separating plane described above was obtained using\n",
      "Multisurface Method-Tree (MSM-T) [K. P. Bennett, \"Decision Tree\n",
      "Construction Via Linear Programming.\" Proceedings of the 4th\n",
      "Midwest Artificial Intelligence and Cognitive Science Society,\n",
      "pp. 97-101, 1992], a classification method which uses linear\n",
      "programming to construct a decision tree.  Relevant features\n",
      "were selected using an exhaustive search in the space of 1-4\n",
      "features and 1-3 separating planes.\n",
      "\n",
      "The actual linear program used to obtain the separating plane\n",
      "in the 3-dimensional space is that described in:\n",
      "[K. P. Bennett and O. L. Mangasarian: \"Robust Linear\n",
      "Programming Discrimination of Two Linearly Inseparable Sets\",\n",
      "Optimization Methods and Software 1, 1992, 23-34].\n",
      "\n",
      "This database is also available through the UW CS ftp server:\n",
      "\n",
      "ftp ftp.cs.wisc.edu\n",
      "cd math-prog/cpo-dataset/machine-learn/WDBC/\n",
      "\n",
      ".. topic:: References\n",
      "\n",
      "   - W.N. Street, W.H. Wolberg and O.L. Mangasarian. Nuclear feature extraction \n",
      "     for breast tumor diagnosis. IS&T/SPIE 1993 International Symposium on \n",
      "     Electronic Imaging: Science and Technology, volume 1905, pages 861-870,\n",
      "     San Jose, CA, 1993.\n",
      "   - O.L. Mangasarian, W.N. Street and W.H. Wolberg. Breast cancer diagnosis and \n",
      "     prognosis via linear programming. Operations Research, 43(4), pages 570-577, \n",
      "     July-August 1995.\n",
      "   - W.H. Wolberg, W.N. Street, and O.L. Mangasarian. Machine learning techniques\n",
      "     to diagnose breast cancer from fine-needle aspirates. Cancer Letters 77 (1994) \n",
      "     163-171.\n"
     ]
    }
   ],
   "source": [
    "print(data.DESCR)"
   ]
  },
  {
   "cell_type": "markdown",
   "id": "b6b6c41b",
   "metadata": {},
   "source": [
    "## Parameters"
   ]
  },
  {
   "cell_type": "code",
   "execution_count": 54,
   "id": "1c8ee87b",
   "metadata": {},
   "outputs": [],
   "source": [
    "sample_size = X_train.shape[0]\n",
    "\n",
    "len_groups = np.array([len(group) for group in groups])\n",
    "\n",
    "min_samples_leaf = 1 # The minimum number of samples in a leaf\n",
    "min_samples_split = 2 # The minimum number of samples needed to split the node\n",
    "random_state = 2547 # The seed\n",
    "max_depth = None # The maximal depth for the splitting_tree\n",
    "max_depth_splitting_tree = 2\n",
    "mgroup = len(groups) # The number of group to visit\n",
    "mvar = len_groups # The number of variable to visit,\n",
    "pen=None # The penality function\n",
    "min_impurity_decrease = 0.0 # The minimum decrease in impurity that we want to achieve after a split\n",
    "min_impurity_split = 0.0 # The minimum impurity under which the node is considered a leaf\n",
    "max_features=None #  An int, the maximum number of leaf the tree will be restricted to\n",
    "max_leaf_nodes=None # An int, the maximum number of leaf the tree will be restricted to\n",
    "class_weight=None # A dict, list of dict, or \"balanced\", The class associated weights\n",
    "ccp_alpha=0.0     # A non-negative float, the complexity parameter used for tree pruning"
   ]
  },
  {
   "cell_type": "markdown",
   "id": "b82c7eaa",
   "metadata": {},
   "source": [
    "## Object construction"
   ]
  },
  {
   "cell_type": "code",
   "execution_count": 55,
   "id": "989b9c82",
   "metadata": {},
   "outputs": [],
   "source": [
    "cartgvtreeclassifier = DecisionCARTGVTreeClassifier(mvar=mvar, \n",
    "                            mgroup=mgroup,\n",
    "                            random_state=random_state, \n",
    "                            max_depth_splitting_tree=max_depth_splitting_tree,\n",
    "                            pen=pen,\n",
    "                            min_samples_leaf = 1, \n",
    "                            min_samples_split = 2, \n",
    "                            max_depth = None,\n",
    "                            min_impurity_decrease = 0.0,\n",
    "                            min_impurity_split = 0.0,\n",
    "                            min_weight_fraction_leaf=0.0,\n",
    "                            max_features=None,\n",
    "                            max_leaf_nodes=None,\n",
    "                            class_weight=None,\n",
    "                            ccp_alpha=0.0)"
   ]
  },
  {
   "cell_type": "markdown",
   "id": "42339a46",
   "metadata": {},
   "source": [
    "## Tree construction"
   ]
  },
  {
   "cell_type": "code",
   "execution_count": 56,
   "id": "c7a6ef6d",
   "metadata": {},
   "outputs": [
    {
     "name": "stderr",
     "output_type": "stream",
     "text": [
      "../rfgi\\CARTGV_trees.py:308: FutureWarning: The min_impurity_split parameter is deprecated. Its default value has changed from 1e-7 to 0 in version 0.23, and it will be removed in 1.0 (renaming of 0.25). Use the min_impurity_decrease parameter instead.\n",
      "  warnings.warn(\n"
     ]
    },
    {
     "data": {
      "text/plain": [
       "DecisionCARTGVTreeClassifier(mgroup=4, min_impurity_split=0.0,\n",
       "                             mvar=array([9, 9, 6, 6]), random_state=2547)"
      ]
     },
     "execution_count": 56,
     "metadata": {},
     "output_type": "execute_result"
    }
   ],
   "source": [
    "cartgvtreeclassifier.fit(X_train, y_train, groups)"
   ]
  },
  {
   "cell_type": "markdown",
   "id": "00dadc13",
   "metadata": {},
   "source": [
    "## Classification score"
   ]
  },
  {
   "cell_type": "code",
   "execution_count": 57,
   "id": "44d5fde9",
   "metadata": {},
   "outputs": [
    {
     "data": {
      "text/plain": [
       "0.9095744680851063"
      ]
     },
     "execution_count": 57,
     "metadata": {},
     "output_type": "execute_result"
    }
   ],
   "source": [
    "cartgvtreeclassifier.score(X_test, y_test)"
   ]
  },
  {
   "cell_type": "markdown",
   "id": "805ea0c9",
   "metadata": {},
   "source": [
    "The rate of good classification of our tree is of ~90%."
   ]
  },
  {
   "cell_type": "markdown",
   "id": "df2b2437",
   "metadata": {},
   "source": [
    "## Pruning"
   ]
  },
  {
   "cell_type": "code",
   "execution_count": 58,
   "id": "78964bc8",
   "metadata": {},
   "outputs": [],
   "source": [
    "sample_size = X_train.shape[0]\n",
    "\n",
    "len_groups = np.array([len(group) for group in groups])\n",
    "\n",
    "min_samples_leaf = 1 # The minimum number of samples in a leaf\n",
    "min_samples_split = 2 # The minimum number of samples needed to split the node\n",
    "random_state = None # The seed\n",
    "max_depth = None # The maximal depth for the CARTGV tree\n",
    "max_depth_splitting_tree = 2 # The maximal depth of the splitting trees\n",
    "mgroup = len(groups) # The number of group to visit\n",
    "mvar = len_groups # The number of variable to visit\n",
    "min_impurity_decrease = 0.0 # The minimum decrease in impurity that we want to achieve after a split\n",
    "min_impurity_split = 0.0 # The minimum impurity under which the node is considered a leaf\n",
    "max_features=None #  An int, not used anymore\n",
    "max_leaf_nodes=None # An int, the maximum number of leaf the tree will be restricted to\n",
    "class_weight=None # A dict, list of dict, or \"balanced\", The class associated weights\n",
    "ccp_alpha=0.0     # A non-negative float, the complexity parameter used for tree pruning"
   ]
  },
  {
   "cell_type": "markdown",
   "id": "687c8072",
   "metadata": {},
   "source": [
    "### Max depth = 4"
   ]
  },
  {
   "cell_type": "code",
   "execution_count": 59,
   "id": "ae06dfa3",
   "metadata": {},
   "outputs": [],
   "source": [
    "cartgvtreeclassifier = DecisionCARTGVTreeClassifier(mvar=mvar, \n",
    "                            mgroup=mgroup,\n",
    "                            random_state=random_state, \n",
    "                            max_depth_splitting_tree=max_depth_splitting_tree,\n",
    "                            min_samples_leaf = 1, \n",
    "                            min_samples_split = 2, \n",
    "                            max_depth = None,\n",
    "                            min_impurity_decrease = 0.0,\n",
    "                            min_impurity_split = 0.0,\n",
    "                            min_weight_fraction_leaf=0.0,\n",
    "                            max_features=None,\n",
    "                            max_leaf_nodes=None,\n",
    "                            class_weight=None,\n",
    "                            ccp_alpha=0.0)"
   ]
  },
  {
   "cell_type": "code",
   "execution_count": 60,
   "id": "61af1368",
   "metadata": {},
   "outputs": [
    {
     "name": "stderr",
     "output_type": "stream",
     "text": [
      "../rfgi\\CARTGV_trees.py:308: FutureWarning: The min_impurity_split parameter is deprecated. Its default value has changed from 1e-7 to 0 in version 0.23, and it will be removed in 1.0 (renaming of 0.25). Use the min_impurity_decrease parameter instead.\n",
      "  warnings.warn(\n"
     ]
    },
    {
     "data": {
      "text/plain": [
       "0.9047619047619048"
      ]
     },
     "execution_count": 60,
     "metadata": {},
     "output_type": "execute_result"
    }
   ],
   "source": [
    "cartgvtreeclassifier.fit(X_train, y_train, groups)\n",
    "cartgvtreeclassifier.score(X_val,y_val)"
   ]
  },
  {
   "cell_type": "markdown",
   "id": "775d9a55",
   "metadata": {},
   "source": [
    "### Max depth = 3"
   ]
  },
  {
   "cell_type": "code",
   "execution_count": 61,
   "id": "18398aff",
   "metadata": {},
   "outputs": [],
   "source": [
    "cartgvtreeclassifier = DecisionCARTGVTreeClassifier(mvar=mvar, \n",
    "                            mgroup=mgroup,\n",
    "                            random_state=random_state, \n",
    "                            max_depth_splitting_tree=max_depth_splitting_tree,\n",
    "                            min_samples_leaf = 1, \n",
    "                            min_samples_split = 2, \n",
    "                            max_depth = 3,\n",
    "                            min_impurity_decrease = 0.0,\n",
    "                            min_impurity_split = 0.0,\n",
    "                            min_weight_fraction_leaf=0.0,\n",
    "                            max_features=None,\n",
    "                            max_leaf_nodes=None,\n",
    "                            class_weight=None,\n",
    "                            ccp_alpha=0.0)"
   ]
  },
  {
   "cell_type": "code",
   "execution_count": 62,
   "id": "dd2381d9",
   "metadata": {},
   "outputs": [
    {
     "name": "stderr",
     "output_type": "stream",
     "text": [
      "../rfgi\\CARTGV_trees.py:308: FutureWarning: The min_impurity_split parameter is deprecated. Its default value has changed from 1e-7 to 0 in version 0.23, and it will be removed in 1.0 (renaming of 0.25). Use the min_impurity_decrease parameter instead.\n",
      "  warnings.warn(\n"
     ]
    },
    {
     "data": {
      "text/plain": [
       "0.873015873015873"
      ]
     },
     "execution_count": 62,
     "metadata": {},
     "output_type": "execute_result"
    }
   ],
   "source": [
    "cartgvtreeclassifier.fit(X_train, y_train, groups)\n",
    "cartgvtreeclassifier.score(X_val,y_val)"
   ]
  },
  {
   "cell_type": "markdown",
   "id": "ef312257",
   "metadata": {},
   "source": [
    "### Max depth = 2"
   ]
  },
  {
   "cell_type": "code",
   "execution_count": 63,
   "id": "d72fdea6",
   "metadata": {},
   "outputs": [],
   "source": [
    "cartgvtreeclassifier = DecisionCARTGVTreeClassifier(mvar=mvar, \n",
    "                            mgroup=mgroup,\n",
    "                            random_state=random_state, \n",
    "                            max_depth_splitting_tree=max_depth_splitting_tree,\n",
    "                            min_samples_leaf = 1, \n",
    "                            min_samples_split = 2, \n",
    "                            max_depth = 2,\n",
    "                            min_impurity_decrease = 0.0,\n",
    "                            min_impurity_split = 0.0,\n",
    "                            min_weight_fraction_leaf=0.0,\n",
    "                            max_features=None,\n",
    "                            max_leaf_nodes=None,\n",
    "                            class_weight=None,\n",
    "                            ccp_alpha=0.0)"
   ]
  },
  {
   "cell_type": "code",
   "execution_count": 64,
   "id": "51944e21",
   "metadata": {},
   "outputs": [
    {
     "name": "stderr",
     "output_type": "stream",
     "text": [
      "../rfgi\\CARTGV_trees.py:308: FutureWarning: The min_impurity_split parameter is deprecated. Its default value has changed from 1e-7 to 0 in version 0.23, and it will be removed in 1.0 (renaming of 0.25). Use the min_impurity_decrease parameter instead.\n",
      "  warnings.warn(\n"
     ]
    },
    {
     "data": {
      "text/plain": [
       "0.9126984126984127"
      ]
     },
     "execution_count": 64,
     "metadata": {},
     "output_type": "execute_result"
    }
   ],
   "source": [
    "cartgvtreeclassifier.fit(X_train, y_train, groups)\n",
    "cartgvtreeclassifier.score(X_val,y_val)"
   ]
  },
  {
   "cell_type": "markdown",
   "id": "d8ddfb03",
   "metadata": {},
   "source": [
    "### Max depth = 1"
   ]
  },
  {
   "cell_type": "code",
   "execution_count": 65,
   "id": "20775f0c",
   "metadata": {},
   "outputs": [],
   "source": [
    "cartgvtreeclassifier = DecisionCARTGVTreeClassifier(mvar=mvar, \n",
    "                            mgroup=mgroup,\n",
    "                            random_state=random_state, \n",
    "                            max_depth_splitting_tree=max_depth_splitting_tree,\n",
    "                            min_samples_leaf = 1, \n",
    "                            min_samples_split = 2, \n",
    "                            max_depth = 1,\n",
    "                            min_impurity_decrease = 0.0,\n",
    "                            min_impurity_split = 0.0,\n",
    "                            min_weight_fraction_leaf=0.0,\n",
    "                            max_features=None,\n",
    "                            max_leaf_nodes=None,\n",
    "                            class_weight=None,\n",
    "                            ccp_alpha=0.0)"
   ]
  },
  {
   "cell_type": "code",
   "execution_count": 66,
   "id": "85931462",
   "metadata": {},
   "outputs": [
    {
     "name": "stderr",
     "output_type": "stream",
     "text": [
      "../rfgi\\CARTGV_trees.py:308: FutureWarning: The min_impurity_split parameter is deprecated. Its default value has changed from 1e-7 to 0 in version 0.23, and it will be removed in 1.0 (renaming of 0.25). Use the min_impurity_decrease parameter instead.\n",
      "  warnings.warn(\n"
     ]
    },
    {
     "data": {
      "text/plain": [
       "0.9206349206349206"
      ]
     },
     "execution_count": 66,
     "metadata": {},
     "output_type": "execute_result"
    }
   ],
   "source": [
    "cartgvtreeclassifier.fit(X_train, y_train, groups)\n",
    "cartgvtreeclassifier.score(X_val,y_val)"
   ]
  },
  {
   "cell_type": "markdown",
   "id": "34a58dbf",
   "metadata": {},
   "source": [
    "### Results"
   ]
  },
  {
   "cell_type": "code",
   "execution_count": 67,
   "id": "f20a3c6b",
   "metadata": {},
   "outputs": [],
   "source": [
    "score_depth_4 = 0.9047619047619048\n",
    "score_depth_3 = 0.8888888888888888\n",
    "score_depth_2 = 0.9047619047619048\n",
    "score_depth_1 = 0.9206349206349206"
   ]
  },
  {
   "cell_type": "markdown",
   "id": "4b38df8d",
   "metadata": {},
   "source": [
    "We can see here that the optimal tree is the tree with a depth of 1 with a score of ~92%."
   ]
  },
  {
   "cell_type": "markdown",
   "id": "83a1032a",
   "metadata": {},
   "source": [
    "### Score on test data of optimal tree"
   ]
  },
  {
   "cell_type": "code",
   "execution_count": 68,
   "id": "74b61054",
   "metadata": {},
   "outputs": [
    {
     "name": "stderr",
     "output_type": "stream",
     "text": [
      "../rfgi\\CARTGV_trees.py:308: FutureWarning: The min_impurity_split parameter is deprecated. Its default value has changed from 1e-7 to 0 in version 0.23, and it will be removed in 1.0 (renaming of 0.25). Use the min_impurity_decrease parameter instead.\n",
      "  warnings.warn(\n"
     ]
    },
    {
     "data": {
      "text/plain": [
       "0.8829787234042553"
      ]
     },
     "execution_count": 68,
     "metadata": {},
     "output_type": "execute_result"
    }
   ],
   "source": [
    "cartgvtreeclassifier = DecisionCARTGVTreeClassifier(mvar=mvar, \n",
    "                            mgroup=mgroup,\n",
    "                            random_state=random_state, \n",
    "                            max_depth_splitting_tree=max_depth_splitting_tree,\n",
    "                            min_samples_leaf = 1, \n",
    "                            min_samples_split = 2, \n",
    "                            max_depth = 1,\n",
    "                            min_impurity_decrease = 0.0,\n",
    "                            min_impurity_split = 0.0,\n",
    "                            min_weight_fraction_leaf=0.0,\n",
    "                            max_features=None,\n",
    "                            max_leaf_nodes=None,\n",
    "                            class_weight=None,\n",
    "                            ccp_alpha=0.0)\n",
    "cartgvtreeclassifier.fit(X_train, y_train, groups)\n",
    "cartgvtreeclassifier.score(X_test,y_test)"
   ]
  },
  {
   "cell_type": "markdown",
   "id": "f2718c57",
   "metadata": {},
   "source": [
    "The maximal tree with had a depth of 4 and a score of ~90% when the optimal tree had a score of ~88%."
   ]
  },
  {
   "cell_type": "markdown",
   "id": "c20d5bd3",
   "metadata": {},
   "source": [
    "# Example 4 : Breast cancer dataset and random forest classifier"
   ]
  },
  {
   "cell_type": "markdown",
   "id": "7f438bd1",
   "metadata": {},
   "source": [
    "## Parameters"
   ]
  },
  {
   "cell_type": "code",
   "execution_count": 69,
   "id": "abba7e62",
   "metadata": {},
   "outputs": [],
   "source": [
    "n_estimators=100            # An int, the number of trees that will be created\n",
    "criterion=\"gini\"            # A string, the criterion name that will be used to construct the forest\n",
    "splitter=\"best\"             # A string, the splitter name that will be used to construct the forest\n",
    "max_depth=None              # An int, the maximum depth of the trees\n",
    "max_depth_splitting_tree=2  # An int, the maximal depth of the splitting trees\n",
    "min_samples_split=2         # An int, the minimal number of samples in a node needed to split it\n",
    "min_samples_leaf=1          # An int, the minimal number under which the nodes are considered leaves\n",
    "min_weight_fraction_leaf=0. # An int, the minimal weigth in a node under which it is considered a leaf\n",
    "mvar=\"root\"                 # An string or array/list, The number of variable that will be used \n",
    "                            # to construct the splitting trees for each group\n",
    "mgroup=None                 # An int, the number of group that will be tested to find the best splitting tree\n",
    "pen=None                    # A function with one parameter or a string, The penality function\n",
    "                            # on the group size for the impurity calculation\n",
    "max_leaf_nodes=None         # An int, the maximum number of leaf the tree will be restricted to\n",
    "min_impurity_decrease=0.    # A float, The value under which the decrease in impurity of a split need to be to split a node\n",
    "min_impurity_split=None     # A float, The minimal value of impurity under which the node is considered a leaf\n",
    "bootstrap=True              # A boolean, If true the forest will use the bootstrap method\n",
    "oob_score=False             # A boolean, If true the forest will compute the out-of-bag score\n",
    "ib_score=False              # A boolean, If true, the forest will compute the in-bag score\n",
    "n_jobs=None                 # An int, the number of process, threads that will be used to create the forest\n",
    "random_state=None           # An int, the seed to fix the randomness\n",
    "verbose=0                   # An int, If verbose > 0 It will print the stepts of the forest\n",
    "warm_start=False            # A boolean, Reuse the solution of the previous fit and add more estimators\n",
    "class_weight=None           # A dict, list of dict, or \"balanced\", The class associated weights\n",
    "ccp_alpha=0.0               # A non-negative float, the complexity parameter used for tree pruning\n",
    "max_samples=None            # An int, The number of samples to draw from the data to train each estimator\n",
    "random=True                 #  A boolean, Remove the randomness in the forest"
   ]
  },
  {
   "cell_type": "markdown",
   "id": "38fe7cad",
   "metadata": {},
   "source": [
    "## Object construction"
   ]
  },
  {
   "cell_type": "code",
   "execution_count": 70,
   "id": "d9895bf3",
   "metadata": {},
   "outputs": [],
   "source": [
    "rfgv = RFGVClassifier(n_jobs=n_jobs, \n",
    "                      n_estimators=n_estimators, \n",
    "                      mvar=mvar, \n",
    "                      mgroup=len(groups)/3, \n",
    "                      max_depth_splitting_tree=max_depth_splitting_tree, \n",
    "                      random_state=2547, \n",
    "                      verbose=0,\n",
    "                      criterion=\"gini\",\n",
    "                      splitter=\"best\",\n",
    "                      max_depth=None,\n",
    "                      min_samples_split=2,\n",
    "                      min_samples_leaf=1,\n",
    "                      min_weight_fraction_leaf=0.0,\n",
    "                      pen=None,\n",
    "                      max_leaf_nodes=None,\n",
    "                      min_impurity_decrease=0.0,\n",
    "                      min_impurity_split=None,\n",
    "                      bootstrap=True,\n",
    "                      oob_score=False,\n",
    "                      ib_score=False,\n",
    "                      warm_start=False,\n",
    "                      class_weight=None,\n",
    "                      ccp_alpha=0.0,\n",
    "                      max_samples=None,\n",
    "                      random=True\n",
    "                      ) #verbose >1 for text"
   ]
  },
  {
   "cell_type": "markdown",
   "id": "45257adc",
   "metadata": {},
   "source": [
    "## Forest construction"
   ]
  },
  {
   "cell_type": "code",
   "execution_count": 71,
   "id": "37c462a4",
   "metadata": {},
   "outputs": [
    {
     "data": {
      "text/plain": [
       "RFGVClassifier(mgroup=1.3333333333333333, random_state=2547, splitter=('best',))"
      ]
     },
     "execution_count": 71,
     "metadata": {},
     "output_type": "execute_result"
    }
   ],
   "source": [
    "rfgv.fit(X_train, y_train, groups)"
   ]
  },
  {
   "cell_type": "markdown",
   "id": "babd1f2c",
   "metadata": {},
   "source": [
    "## Forest classification score"
   ]
  },
  {
   "cell_type": "code",
   "execution_count": 72,
   "id": "c1b27f39",
   "metadata": {
    "scrolled": true
   },
   "outputs": [
    {
     "data": {
      "text/plain": [
       "0.9521276595744681"
      ]
     },
     "execution_count": 72,
     "metadata": {},
     "output_type": "execute_result"
    }
   ],
   "source": [
    "rfgv.score(X_test,y_test)"
   ]
  },
  {
   "cell_type": "markdown",
   "id": "4a02b6f6",
   "metadata": {},
   "source": [
    "This score can be compared to the previous example score. We can see that just like the first example and the second example, we have an increase in accuracy in the score with ~95% here compared to ~92% for the optimal tree after pruning."
   ]
  },
  {
   "cell_type": "markdown",
   "id": "4bdb25f8",
   "metadata": {},
   "source": [
    "## Confusion matrix"
   ]
  },
  {
   "cell_type": "code",
   "execution_count": 73,
   "id": "7b2c4c94",
   "metadata": {
    "scrolled": true
   },
   "outputs": [
    {
     "data": {
      "image/png": "[encoded data removed]",
      "text/plain": [
       "<Figure size 432x288 with 2 Axes>"
      ]
     },
     "metadata": {
      "needs_background": "light"
     },
     "output_type": "display_data"
    }
   ],
   "source": [
    "cm = confusion_matrix(y_test, rfgv.predict(X_test))\n",
    "cm_display = ConfusionMatrixDisplay(cm).plot()"
   ]
  },
  {
   "cell_type": "markdown",
   "id": "61d70517",
   "metadata": {},
   "source": [
    "The confusion matrix help us in evaluating the accuracy of the classification. When there is a value X outside of the diagonal, it means that X observations have been missclassed.\n",
    "\n",
    "Our tree missclassed 3 observations as a class 0 instead of class 1 and 4 observations as class 1 instead of class 0."
   ]
  },
  {
   "cell_type": "markdown",
   "id": "ab897ece",
   "metadata": {},
   "source": [
    "## Group importances"
   ]
  },
  {
   "cell_type": "code",
   "execution_count": 74,
   "id": "0670cdf2",
   "metadata": {},
   "outputs": [
    {
     "name": "stdout",
     "output_type": "stream",
     "text": [
      "{'importances_mean': array([0.24276666, 0.1475092 , 0.23512444, 0.11184604]), 'importances_std': array([0.00230556, 0.00036195, 0.00381619, 0.0015153 ]), 'importances': array([[0.24301617, 0.24056291, 0.2413057 , 0.24185769, 0.24709085],\n",
      "       [0.1473626 , 0.14773773, 0.14699941, 0.14806219, 0.14738408],\n",
      "       [0.23080604, 0.23257436, 0.23283572, 0.23920314, 0.24020292],\n",
      "       [0.11238262, 0.1128974 , 0.1116686 , 0.10901227, 0.1132693 ]])}\n"
     ]
    }
   ],
   "source": [
    "importances = rfgv._permutation_importance(importance=\"breiman\", # A string, the method used to compute the importance (\"breiman\",\"ishwaran\")\n",
    "                             n_jobs=1, # An int, the number of process/threads used to compute (can't be more than 1 at the moment) \n",
    "                             n_repeats=5) # An int, the number of repetitions of the computation to obtain the mean, and std\n",
    "print(importances)"
   ]
  },
  {
   "cell_type": "markdown",
   "id": "ac8e4c3e",
   "metadata": {},
   "source": [
    "The result of this method gives us the importance of each group in the decision making for the prediction. We mostly look at the mean of those values.\n",
    "\n",
    "Here we can see that the first group was the most important, as his value is the highest. The next are the third group then, the second and to finish the fourth group."
   ]
  },
  {
   "cell_type": "code",
   "execution_count": 76,
   "id": "07062906",
   "metadata": {},
   "outputs": [
    {
     "data": {
      "image/png": "[encoded data removed]",
      "text/plain": [
       "<Figure size 432x288 with 1 Axes>"
      ]
     },
     "metadata": {
      "needs_background": "light"
     },
     "output_type": "display_data"
    }
   ],
   "source": [
    "plt.boxplot(np.transpose(importances.importances))\n",
    "plt.show()"
   ]
  },
  {
   "cell_type": "markdown",
   "id": "09e14383",
   "metadata": {},
   "source": [
    "This boxplot present the previous result. We can see the different importance of each variable, but the most important part is the order in which they are. We can clearly see the first variable being the highest, then the third followed by the second and finally by the fourth."
   ]
  }
 ],
 "metadata": {
  "kernelspec": {
   "display_name": "Python 3",
   "language": "python",
   "name": "python3"
  },
  "language_info": {
   "codemirror_mode": {
    "name": "ipython",
    "version": 3
   },
   "file_extension": ".py",
   "mimetype": "text/x-python",
   "name": "python",
   "nbconvert_exporter": "python",
   "pygments_lexer": "ipython3",
   "version": "3.8.8"
  }
 },
 "nbformat": 4,
 "nbformat_minor": 5
}
